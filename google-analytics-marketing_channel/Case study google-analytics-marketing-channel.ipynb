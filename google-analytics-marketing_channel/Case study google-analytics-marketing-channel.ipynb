{
 "cells": [
  {
   "cell_type": "markdown",
   "id": "14c3d980",
   "metadata": {},
   "source": [
    "# Goal: To conduct an exporatory data analysis and come up with answers of important business related questions"
   ]
  },
  {
   "cell_type": "code",
   "execution_count": null,
   "id": "873586f4",
   "metadata": {},
   "outputs": [],
   "source": [
    "# libraries\n",
    "!pip install pandas-profiling panel mplcursors"
   ]
  },
  {
   "cell_type": "markdown",
   "id": "a40321c0",
   "metadata": {},
   "source": [
    "# Data Import"
   ]
  },
  {
   "cell_type": "code",
   "execution_count": 1,
   "id": "96109aa7",
   "metadata": {},
   "outputs": [],
   "source": [
    "import pandas as pd\n",
    "mc = pd.read_csv('google-analytics-public-analyst-case-study_-_marketing_channel_timeseries.csv')"
   ]
  },
  {
   "cell_type": "markdown",
   "id": "ab3205bc",
   "metadata": {},
   "source": [
    "# EDA"
   ]
  },
  {
   "cell_type": "markdown",
   "id": "9f64b4e9",
   "metadata": {},
   "source": [
    "## Data Profiling"
   ]
  },
  {
   "cell_type": "code",
   "execution_count": 2,
   "id": "3df3b9a2",
   "metadata": {},
   "outputs": [
    {
     "data": {
      "application/vnd.jupyter.widget-view+json": {
       "model_id": "48c42e47152c4cbcb6297296f5b63f5d",
       "version_major": 2,
       "version_minor": 0
      },
      "text/plain": [
       "Summarize dataset:   0%|          | 0/5 [00:00<?, ?it/s]"
      ]
     },
     "metadata": {},
     "output_type": "display_data"
    },
    {
     "data": {
      "application/vnd.jupyter.widget-view+json": {
       "model_id": "0a7aad98bed6487f9de9b23b211aa0be",
       "version_major": 2,
       "version_minor": 0
      },
      "text/plain": [
       "Generate report structure:   0%|          | 0/1 [00:00<?, ?it/s]"
      ]
     },
     "metadata": {},
     "output_type": "display_data"
    },
    {
     "data": {
      "application/vnd.jupyter.widget-view+json": {
       "model_id": "",
       "version_major": 2,
       "version_minor": 0
      },
      "text/plain": [
       "Render widgets:   0%|          | 0/1 [00:00<?, ?it/s]"
      ]
     },
     "metadata": {},
     "output_type": "display_data"
    },
    {
     "data": {
      "application/vnd.jupyter.widget-view+json": {
       "model_id": "0f2b2696059e4c44b208a8e680e2260c",
       "version_major": 2,
       "version_minor": 0
      },
      "text/plain": [
       "VBox(children=(Tab(children=(Tab(children=(GridBox(children=(VBox(children=(GridspecLayout(children=(HTML(valu…"
      ]
     },
     "metadata": {},
     "output_type": "display_data"
    }
   ],
   "source": [
    "from pandas_profiling import ProfileReport\n",
    "mc_profile = ProfileReport(mc)\n",
    "mc_profile.to_widgets()"
   ]
  },
  {
   "cell_type": "markdown",
   "id": "559096d3",
   "metadata": {},
   "source": [
    "## Key Observations"
   ]
  },
  {
   "cell_type": "markdown",
   "id": "503f90aa",
   "metadata": {},
   "source": [
    "From the above Profiling we observe few key things about the given data:\n",
    "* `transactions` and `totalTransactionRevenue` is correlated and highly positive.\n",
    "* `visits`, `bounces` and `transactions` are siginificantly correlated\n",
    "* `source` and `referralPath` has large number of distinct values (high cardinality).\n",
    "* `referralPath` feature has 40% of missing values.\n",
    "* From the histogram we observe, `transactions` as a label, which ranged from 0 to 71, is highly skewed with large number of obervations having 0 of value (meaning no transactions). This makes an imbalanced dataset for machine learning classification model."
   ]
  },
  {
   "cell_type": "markdown",
   "id": "d002a2f1",
   "metadata": {},
   "source": [
    "## Which marketing source delivers the most bookings?"
   ]
  },
  {
   "cell_type": "markdown",
   "id": "08c738b3",
   "metadata": {},
   "source": [
    "The best way to find the outcome of marketing source that resulted in booking is to plot the bar chart and compare it visually. Here is the interactive chart from `marketing_channel_timeseries` dataset to understand the behaviour of different features with one another on the entire dataset."
   ]
  },
  {
   "cell_type": "code",
   "execution_count": 3,
   "id": "7c0b978c",
   "metadata": {},
   "outputs": [],
   "source": [
    "import panel as pn\n",
    "from matplotlib.figure import Figure\n",
    "import mplcursors\n",
    "%matplotlib widget\n",
    "%matplotlib inline"
   ]
  },
  {
   "cell_type": "code",
   "execution_count": 4,
   "id": "8a4e2756",
   "metadata": {},
   "outputs": [
    {
     "data": {
      "application/javascript": [
       "(function(root) {\n",
       "  function now() {\n",
       "    return new Date();\n",
       "  }\n",
       "\n",
       "  var force = true;\n",
       "\n",
       "  if (typeof root._bokeh_onload_callbacks === \"undefined\" || force === true) {\n",
       "    root._bokeh_onload_callbacks = [];\n",
       "    root._bokeh_is_loading = undefined;\n",
       "  }\n",
       "\n",
       "  if (typeof (root._bokeh_timeout) === \"undefined\" || force === true) {\n",
       "    root._bokeh_timeout = Date.now() + 5000;\n",
       "    root._bokeh_failed_load = false;\n",
       "  }\n",
       "\n",
       "  function run_callbacks() {\n",
       "    try {\n",
       "      root._bokeh_onload_callbacks.forEach(function(callback) {\n",
       "        if (callback != null)\n",
       "          callback();\n",
       "      });\n",
       "    } finally {\n",
       "      delete root._bokeh_onload_callbacks\n",
       "    }\n",
       "    console.debug(\"Bokeh: all callbacks have finished\");\n",
       "  }\n",
       "\n",
       "  function load_libs(css_urls, js_urls, js_modules, callback) {\n",
       "    if (css_urls == null) css_urls = [];\n",
       "    if (js_urls == null) js_urls = [];\n",
       "    if (js_modules == null) js_modules = [];\n",
       "\n",
       "    root._bokeh_onload_callbacks.push(callback);\n",
       "    if (root._bokeh_is_loading > 0) {\n",
       "      console.debug(\"Bokeh: BokehJS is being loaded, scheduling callback at\", now());\n",
       "      return null;\n",
       "    }\n",
       "    if (js_urls.length === 0 && js_modules.length === 0) {\n",
       "      run_callbacks();\n",
       "      return null;\n",
       "    }\n",
       "    console.debug(\"Bokeh: BokehJS not loaded, scheduling load and callback at\", now());\n",
       "\n",
       "    function on_load() {\n",
       "      root._bokeh_is_loading--;\n",
       "      if (root._bokeh_is_loading === 0) {\n",
       "        console.debug(\"Bokeh: all BokehJS libraries/stylesheets loaded\");\n",
       "        run_callbacks()\n",
       "      }\n",
       "    }\n",
       "\n",
       "    function on_error() {\n",
       "      console.error(\"failed to load \" + url);\n",
       "    }\n",
       "\n",
       "    for (var i = 0; i < css_urls.length; i++) {\n",
       "      var url = css_urls[i];\n",
       "      const element = document.createElement(\"link\");\n",
       "      element.onload = on_load;\n",
       "      element.onerror = on_error;\n",
       "      element.rel = \"stylesheet\";\n",
       "      element.type = \"text/css\";\n",
       "      element.href = url;\n",
       "      console.debug(\"Bokeh: injecting link tag for BokehJS stylesheet: \", url);\n",
       "      document.body.appendChild(element);\n",
       "    }\n",
       "\n",
       "    var skip = [];\n",
       "    if (window.requirejs) {\n",
       "      window.requirejs.config({'packages': {}, 'paths': {'gridstack': 'https://cdn.jsdelivr.net/npm/gridstack@4.2.5/dist/gridstack-h5', 'notyf': 'https://cdn.jsdelivr.net/npm/notyf@3/notyf.min'}, 'shim': {'gridstack': {'exports': 'GridStack'}}});\n",
       "      require([\"gridstack\"], function(GridStack) {\n",
       "\twindow.GridStack = GridStack\n",
       "\ton_load()\n",
       "      })\n",
       "      require([\"notyf\"], function() {\n",
       "\ton_load()\n",
       "      })\n",
       "      root._bokeh_is_loading = css_urls.length + 2;\n",
       "    } else {\n",
       "      root._bokeh_is_loading = css_urls.length + js_urls.length + js_modules.length;\n",
       "    }    if (((window['GridStack'] !== undefined) && (!(window['GridStack'] instanceof HTMLElement))) || window.requirejs) {\n",
       "      var urls = ['https://cdn.jsdelivr.net/npm/gridstack@4.2.5/dist/gridstack-h5.js'];\n",
       "      for (var i = 0; i < urls.length; i++) {\n",
       "        skip.push(urls[i])\n",
       "      }\n",
       "    }    if (((window['Notyf'] !== undefined) && (!(window['Notyf'] instanceof HTMLElement))) || window.requirejs) {\n",
       "      var urls = ['https://cdn.jsdelivr.net/npm/notyf@3/notyf.min.js'];\n",
       "      for (var i = 0; i < urls.length; i++) {\n",
       "        skip.push(urls[i])\n",
       "      }\n",
       "    }    for (var i = 0; i < js_urls.length; i++) {\n",
       "      var url = js_urls[i];\n",
       "      if (skip.indexOf(url) >= 0) {\n",
       "\tif (!window.requirejs) {\n",
       "\t  on_load();\n",
       "\t}\n",
       "\tcontinue;\n",
       "      }\n",
       "      var element = document.createElement('script');\n",
       "      element.onload = on_load;\n",
       "      element.onerror = on_error;\n",
       "      element.async = false;\n",
       "      element.src = url;\n",
       "      console.debug(\"Bokeh: injecting script tag for BokehJS library: \", url);\n",
       "      document.head.appendChild(element);\n",
       "    }\n",
       "    for (var i = 0; i < js_modules.length; i++) {\n",
       "      var url = js_modules[i];\n",
       "      if (skip.indexOf(url) >= 0) {\n",
       "\tif (!window.requirejs) {\n",
       "\t  on_load();\n",
       "\t}\n",
       "\tcontinue;\n",
       "      }\n",
       "      var element = document.createElement('script');\n",
       "      element.onload = on_load;\n",
       "      element.onerror = on_error;\n",
       "      element.async = false;\n",
       "      element.src = url;\n",
       "      element.type = \"module\";\n",
       "      console.debug(\"Bokeh: injecting script tag for BokehJS library: \", url);\n",
       "      document.head.appendChild(element);\n",
       "    }\n",
       "    if (!js_urls.length && !js_modules.length) {\n",
       "      on_load()\n",
       "    }\n",
       "  };\n",
       "\n",
       "  function inject_raw_css(css) {\n",
       "    const element = document.createElement(\"style\");\n",
       "    element.appendChild(document.createTextNode(css));\n",
       "    document.body.appendChild(element);\n",
       "  }\n",
       "\n",
       "  var js_urls = [\"https://cdn.bokeh.org/bokeh/release/bokeh-2.4.3.min.js\", \"https://cdn.bokeh.org/bokeh/release/bokeh-gl-2.4.3.min.js\", \"https://cdn.bokeh.org/bokeh/release/bokeh-widgets-2.4.3.min.js\", \"https://cdn.bokeh.org/bokeh/release/bokeh-tables-2.4.3.min.js\", \"https://cdn.bokeh.org/bokeh/release/bokeh-mathjax-2.4.3.min.js\", \"https://cdn.jsdelivr.net/npm/notyf@3/notyf.min.js\", \"https://unpkg.com/@holoviz/panel@0.13.1/dist/panel.min.js\"];\n",
       "  var js_modules = [];\n",
       "  var css_urls = [\"https://cdn.jsdelivr.net/npm/notyf@3/notyf.min.css\", \"https://cdnjs.cloudflare.com/ajax/libs/font-awesome/5.15.1/css/all.min.css\", \"https://unpkg.com/@holoviz/panel@0.13.1/dist/css/alerts.css\", \"https://unpkg.com/@holoviz/panel@0.13.1/dist/css/card.css\", \"https://unpkg.com/@holoviz/panel@0.13.1/dist/css/dataframe.css\", \"https://unpkg.com/@holoviz/panel@0.13.1/dist/css/debugger.css\", \"https://unpkg.com/@holoviz/panel@0.13.1/dist/css/json.css\", \"https://unpkg.com/@holoviz/panel@0.13.1/dist/css/loading.css\", \"https://unpkg.com/@holoviz/panel@0.13.1/dist/css/markdown.css\", \"https://unpkg.com/@holoviz/panel@0.13.1/dist/css/widgets.css\"];\n",
       "  var inline_js = [    function(Bokeh) {\n",
       "      inject_raw_css(\"\\n    .bk.pn-loading.arcs:before {\\n      background-image: url(\\\"data:image/svg+xml;base64,PHN2ZyB4bWxucz0iaHR0cDovL3d3dy53My5vcmcvMjAwMC9zdmciIHhtbG5zOnhsaW5rPSJodHRwOi8vd3d3LnczLm9yZy8xOTk5L3hsaW5rIiBzdHlsZT0ibWFyZ2luOiBhdXRvOyBiYWNrZ3JvdW5kOiBub25lOyBkaXNwbGF5OiBibG9jazsgc2hhcGUtcmVuZGVyaW5nOiBhdXRvOyIgdmlld0JveD0iMCAwIDEwMCAxMDAiIHByZXNlcnZlQXNwZWN0UmF0aW89InhNaWRZTWlkIj4gIDxjaXJjbGUgY3g9IjUwIiBjeT0iNTAiIHI9IjMyIiBzdHJva2Utd2lkdGg9IjgiIHN0cm9rZT0iI2MzYzNjMyIgc3Ryb2tlLWRhc2hhcnJheT0iNTAuMjY1NDgyNDU3NDM2NjkgNTAuMjY1NDgyNDU3NDM2NjkiIGZpbGw9Im5vbmUiIHN0cm9rZS1saW5lY2FwPSJyb3VuZCI+ICAgIDxhbmltYXRlVHJhbnNmb3JtIGF0dHJpYnV0ZU5hbWU9InRyYW5zZm9ybSIgdHlwZT0icm90YXRlIiByZXBlYXRDb3VudD0iaW5kZWZpbml0ZSIgZHVyPSIxcyIga2V5VGltZXM9IjA7MSIgdmFsdWVzPSIwIDUwIDUwOzM2MCA1MCA1MCI+PC9hbmltYXRlVHJhbnNmb3JtPiAgPC9jaXJjbGU+PC9zdmc+\\\");\\n      background-size: auto calc(min(50%, 400px));\\n    }\\n    \");\n",
       "    },    function(Bokeh) {\n",
       "      Bokeh.set_log_level(\"info\");\n",
       "    },\n",
       "function(Bokeh) {} // ensure no trailing comma for IE\n",
       "  ];\n",
       "\n",
       "  function run_inline_js() {\n",
       "    if ((root.Bokeh !== undefined) || (force === true)) {\n",
       "      for (var i = 0; i < inline_js.length; i++) {\n",
       "        inline_js[i].call(root, root.Bokeh);\n",
       "      }} else if (Date.now() < root._bokeh_timeout) {\n",
       "      setTimeout(run_inline_js, 100);\n",
       "    } else if (!root._bokeh_failed_load) {\n",
       "      console.log(\"Bokeh: BokehJS failed to load within specified timeout.\");\n",
       "      root._bokeh_failed_load = true;\n",
       "    }\n",
       "  }\n",
       "\n",
       "  if (root._bokeh_is_loading === 0) {\n",
       "    console.debug(\"Bokeh: BokehJS loaded, going straight to plotting\");\n",
       "    run_inline_js();\n",
       "  } else {\n",
       "    load_libs(css_urls, js_urls, js_modules, function() {\n",
       "      console.debug(\"Bokeh: BokehJS plotting callback run at\", now());\n",
       "      run_inline_js();\n",
       "    });\n",
       "  }\n",
       "}(window));"
      ],
      "application/vnd.holoviews_load.v0+json": "(function(root) {\n  function now() {\n    return new Date();\n  }\n\n  var force = true;\n\n  if (typeof root._bokeh_onload_callbacks === \"undefined\" || force === true) {\n    root._bokeh_onload_callbacks = [];\n    root._bokeh_is_loading = undefined;\n  }\n\n  if (typeof (root._bokeh_timeout) === \"undefined\" || force === true) {\n    root._bokeh_timeout = Date.now() + 5000;\n    root._bokeh_failed_load = false;\n  }\n\n  function run_callbacks() {\n    try {\n      root._bokeh_onload_callbacks.forEach(function(callback) {\n        if (callback != null)\n          callback();\n      });\n    } finally {\n      delete root._bokeh_onload_callbacks\n    }\n    console.debug(\"Bokeh: all callbacks have finished\");\n  }\n\n  function load_libs(css_urls, js_urls, js_modules, callback) {\n    if (css_urls == null) css_urls = [];\n    if (js_urls == null) js_urls = [];\n    if (js_modules == null) js_modules = [];\n\n    root._bokeh_onload_callbacks.push(callback);\n    if (root._bokeh_is_loading > 0) {\n      console.debug(\"Bokeh: BokehJS is being loaded, scheduling callback at\", now());\n      return null;\n    }\n    if (js_urls.length === 0 && js_modules.length === 0) {\n      run_callbacks();\n      return null;\n    }\n    console.debug(\"Bokeh: BokehJS not loaded, scheduling load and callback at\", now());\n\n    function on_load() {\n      root._bokeh_is_loading--;\n      if (root._bokeh_is_loading === 0) {\n        console.debug(\"Bokeh: all BokehJS libraries/stylesheets loaded\");\n        run_callbacks()\n      }\n    }\n\n    function on_error() {\n      console.error(\"failed to load \" + url);\n    }\n\n    for (var i = 0; i < css_urls.length; i++) {\n      var url = css_urls[i];\n      const element = document.createElement(\"link\");\n      element.onload = on_load;\n      element.onerror = on_error;\n      element.rel = \"stylesheet\";\n      element.type = \"text/css\";\n      element.href = url;\n      console.debug(\"Bokeh: injecting link tag for BokehJS stylesheet: \", url);\n      document.body.appendChild(element);\n    }\n\n    var skip = [];\n    if (window.requirejs) {\n      window.requirejs.config({'packages': {}, 'paths': {'gridstack': 'https://cdn.jsdelivr.net/npm/gridstack@4.2.5/dist/gridstack-h5', 'notyf': 'https://cdn.jsdelivr.net/npm/notyf@3/notyf.min'}, 'shim': {'gridstack': {'exports': 'GridStack'}}});\n      require([\"gridstack\"], function(GridStack) {\n\twindow.GridStack = GridStack\n\ton_load()\n      })\n      require([\"notyf\"], function() {\n\ton_load()\n      })\n      root._bokeh_is_loading = css_urls.length + 2;\n    } else {\n      root._bokeh_is_loading = css_urls.length + js_urls.length + js_modules.length;\n    }    if (((window['GridStack'] !== undefined) && (!(window['GridStack'] instanceof HTMLElement))) || window.requirejs) {\n      var urls = ['https://cdn.jsdelivr.net/npm/gridstack@4.2.5/dist/gridstack-h5.js'];\n      for (var i = 0; i < urls.length; i++) {\n        skip.push(urls[i])\n      }\n    }    if (((window['Notyf'] !== undefined) && (!(window['Notyf'] instanceof HTMLElement))) || window.requirejs) {\n      var urls = ['https://cdn.jsdelivr.net/npm/notyf@3/notyf.min.js'];\n      for (var i = 0; i < urls.length; i++) {\n        skip.push(urls[i])\n      }\n    }    for (var i = 0; i < js_urls.length; i++) {\n      var url = js_urls[i];\n      if (skip.indexOf(url) >= 0) {\n\tif (!window.requirejs) {\n\t  on_load();\n\t}\n\tcontinue;\n      }\n      var element = document.createElement('script');\n      element.onload = on_load;\n      element.onerror = on_error;\n      element.async = false;\n      element.src = url;\n      console.debug(\"Bokeh: injecting script tag for BokehJS library: \", url);\n      document.head.appendChild(element);\n    }\n    for (var i = 0; i < js_modules.length; i++) {\n      var url = js_modules[i];\n      if (skip.indexOf(url) >= 0) {\n\tif (!window.requirejs) {\n\t  on_load();\n\t}\n\tcontinue;\n      }\n      var element = document.createElement('script');\n      element.onload = on_load;\n      element.onerror = on_error;\n      element.async = false;\n      element.src = url;\n      element.type = \"module\";\n      console.debug(\"Bokeh: injecting script tag for BokehJS library: \", url);\n      document.head.appendChild(element);\n    }\n    if (!js_urls.length && !js_modules.length) {\n      on_load()\n    }\n  };\n\n  function inject_raw_css(css) {\n    const element = document.createElement(\"style\");\n    element.appendChild(document.createTextNode(css));\n    document.body.appendChild(element);\n  }\n\n  var js_urls = [\"https://cdn.bokeh.org/bokeh/release/bokeh-2.4.3.min.js\", \"https://cdn.bokeh.org/bokeh/release/bokeh-gl-2.4.3.min.js\", \"https://cdn.bokeh.org/bokeh/release/bokeh-widgets-2.4.3.min.js\", \"https://cdn.bokeh.org/bokeh/release/bokeh-tables-2.4.3.min.js\", \"https://cdn.bokeh.org/bokeh/release/bokeh-mathjax-2.4.3.min.js\", \"https://cdn.jsdelivr.net/npm/notyf@3/notyf.min.js\", \"https://unpkg.com/@holoviz/panel@0.13.1/dist/panel.min.js\"];\n  var js_modules = [];\n  var css_urls = [\"https://cdn.jsdelivr.net/npm/notyf@3/notyf.min.css\", \"https://cdnjs.cloudflare.com/ajax/libs/font-awesome/5.15.1/css/all.min.css\", \"https://unpkg.com/@holoviz/panel@0.13.1/dist/css/alerts.css\", \"https://unpkg.com/@holoviz/panel@0.13.1/dist/css/card.css\", \"https://unpkg.com/@holoviz/panel@0.13.1/dist/css/dataframe.css\", \"https://unpkg.com/@holoviz/panel@0.13.1/dist/css/debugger.css\", \"https://unpkg.com/@holoviz/panel@0.13.1/dist/css/json.css\", \"https://unpkg.com/@holoviz/panel@0.13.1/dist/css/loading.css\", \"https://unpkg.com/@holoviz/panel@0.13.1/dist/css/markdown.css\", \"https://unpkg.com/@holoviz/panel@0.13.1/dist/css/widgets.css\"];\n  var inline_js = [    function(Bokeh) {\n      inject_raw_css(\"\\n    .bk.pn-loading.arcs:before {\\n      background-image: url(\\\"data:image/svg+xml;base64,PHN2ZyB4bWxucz0iaHR0cDovL3d3dy53My5vcmcvMjAwMC9zdmciIHhtbG5zOnhsaW5rPSJodHRwOi8vd3d3LnczLm9yZy8xOTk5L3hsaW5rIiBzdHlsZT0ibWFyZ2luOiBhdXRvOyBiYWNrZ3JvdW5kOiBub25lOyBkaXNwbGF5OiBibG9jazsgc2hhcGUtcmVuZGVyaW5nOiBhdXRvOyIgdmlld0JveD0iMCAwIDEwMCAxMDAiIHByZXNlcnZlQXNwZWN0UmF0aW89InhNaWRZTWlkIj4gIDxjaXJjbGUgY3g9IjUwIiBjeT0iNTAiIHI9IjMyIiBzdHJva2Utd2lkdGg9IjgiIHN0cm9rZT0iI2MzYzNjMyIgc3Ryb2tlLWRhc2hhcnJheT0iNTAuMjY1NDgyNDU3NDM2NjkgNTAuMjY1NDgyNDU3NDM2NjkiIGZpbGw9Im5vbmUiIHN0cm9rZS1saW5lY2FwPSJyb3VuZCI+ICAgIDxhbmltYXRlVHJhbnNmb3JtIGF0dHJpYnV0ZU5hbWU9InRyYW5zZm9ybSIgdHlwZT0icm90YXRlIiByZXBlYXRDb3VudD0iaW5kZWZpbml0ZSIgZHVyPSIxcyIga2V5VGltZXM9IjA7MSIgdmFsdWVzPSIwIDUwIDUwOzM2MCA1MCA1MCI+PC9hbmltYXRlVHJhbnNmb3JtPiAgPC9jaXJjbGU+PC9zdmc+\\\");\\n      background-size: auto calc(min(50%, 400px));\\n    }\\n    \");\n    },    function(Bokeh) {\n      Bokeh.set_log_level(\"info\");\n    },\nfunction(Bokeh) {} // ensure no trailing comma for IE\n  ];\n\n  function run_inline_js() {\n    if ((root.Bokeh !== undefined) || (force === true)) {\n      for (var i = 0; i < inline_js.length; i++) {\n        inline_js[i].call(root, root.Bokeh);\n      }} else if (Date.now() < root._bokeh_timeout) {\n      setTimeout(run_inline_js, 100);\n    } else if (!root._bokeh_failed_load) {\n      console.log(\"Bokeh: BokehJS failed to load within specified timeout.\");\n      root._bokeh_failed_load = true;\n    }\n  }\n\n  if (root._bokeh_is_loading === 0) {\n    console.debug(\"Bokeh: BokehJS loaded, going straight to plotting\");\n    run_inline_js();\n  } else {\n    load_libs(css_urls, js_urls, js_modules, function() {\n      console.debug(\"Bokeh: BokehJS plotting callback run at\", now());\n      run_inline_js();\n    });\n  }\n}(window));"
     },
     "metadata": {},
     "output_type": "display_data"
    },
    {
     "data": {
      "application/javascript": [
       "\n",
       "if ((window.PyViz === undefined) || (window.PyViz instanceof HTMLElement)) {\n",
       "  window.PyViz = {comms: {}, comm_status:{}, kernels:{}, receivers: {}, plot_index: []}\n",
       "}\n",
       "\n",
       "\n",
       "    function JupyterCommManager() {\n",
       "    }\n",
       "\n",
       "    JupyterCommManager.prototype.register_target = function(plot_id, comm_id, msg_handler) {\n",
       "      if (window.comm_manager || ((window.Jupyter !== undefined) && (Jupyter.notebook.kernel != null))) {\n",
       "        var comm_manager = window.comm_manager || Jupyter.notebook.kernel.comm_manager;\n",
       "        comm_manager.register_target(comm_id, function(comm) {\n",
       "          comm.on_msg(msg_handler);\n",
       "        });\n",
       "      } else if ((plot_id in window.PyViz.kernels) && (window.PyViz.kernels[plot_id])) {\n",
       "        window.PyViz.kernels[plot_id].registerCommTarget(comm_id, function(comm) {\n",
       "          comm.onMsg = msg_handler;\n",
       "        });\n",
       "      } else if (typeof google != 'undefined' && google.colab.kernel != null) {\n",
       "        google.colab.kernel.comms.registerTarget(comm_id, (comm) => {\n",
       "          var messages = comm.messages[Symbol.asyncIterator]();\n",
       "          function processIteratorResult(result) {\n",
       "            var message = result.value;\n",
       "            console.log(message)\n",
       "            var content = {data: message.data, comm_id};\n",
       "            var buffers = []\n",
       "            for (var buffer of message.buffers || []) {\n",
       "              buffers.push(new DataView(buffer))\n",
       "            }\n",
       "            var metadata = message.metadata || {};\n",
       "            var msg = {content, buffers, metadata}\n",
       "            msg_handler(msg);\n",
       "            return messages.next().then(processIteratorResult);\n",
       "          }\n",
       "          return messages.next().then(processIteratorResult);\n",
       "        })\n",
       "      }\n",
       "    }\n",
       "\n",
       "    JupyterCommManager.prototype.get_client_comm = function(plot_id, comm_id, msg_handler) {\n",
       "      if (comm_id in window.PyViz.comms) {\n",
       "        return window.PyViz.comms[comm_id];\n",
       "      } else if (window.comm_manager || ((window.Jupyter !== undefined) && (Jupyter.notebook.kernel != null))) {\n",
       "        var comm_manager = window.comm_manager || Jupyter.notebook.kernel.comm_manager;\n",
       "        var comm = comm_manager.new_comm(comm_id, {}, {}, {}, comm_id);\n",
       "        if (msg_handler) {\n",
       "          comm.on_msg(msg_handler);\n",
       "        }\n",
       "      } else if ((plot_id in window.PyViz.kernels) && (window.PyViz.kernels[plot_id])) {\n",
       "        var comm = window.PyViz.kernels[plot_id].connectToComm(comm_id);\n",
       "        comm.open();\n",
       "        if (msg_handler) {\n",
       "          comm.onMsg = msg_handler;\n",
       "        }\n",
       "      } else if (typeof google != 'undefined' && google.colab.kernel != null) {\n",
       "        var comm_promise = google.colab.kernel.comms.open(comm_id)\n",
       "        comm_promise.then((comm) => {\n",
       "          window.PyViz.comms[comm_id] = comm;\n",
       "          if (msg_handler) {\n",
       "            var messages = comm.messages[Symbol.asyncIterator]();\n",
       "            function processIteratorResult(result) {\n",
       "              var message = result.value;\n",
       "              var content = {data: message.data};\n",
       "              var metadata = message.metadata || {comm_id};\n",
       "              var msg = {content, metadata}\n",
       "              msg_handler(msg);\n",
       "              return messages.next().then(processIteratorResult);\n",
       "            }\n",
       "            return messages.next().then(processIteratorResult);\n",
       "          }\n",
       "        }) \n",
       "        var sendClosure = (data, metadata, buffers, disposeOnDone) => {\n",
       "          return comm_promise.then((comm) => {\n",
       "            comm.send(data, metadata, buffers, disposeOnDone);\n",
       "          });\n",
       "        };\n",
       "        var comm = {\n",
       "          send: sendClosure\n",
       "        };\n",
       "      }\n",
       "      window.PyViz.comms[comm_id] = comm;\n",
       "      return comm;\n",
       "    }\n",
       "    window.PyViz.comm_manager = new JupyterCommManager();\n",
       "    \n",
       "\n",
       "\n",
       "var JS_MIME_TYPE = 'application/javascript';\n",
       "var HTML_MIME_TYPE = 'text/html';\n",
       "var EXEC_MIME_TYPE = 'application/vnd.holoviews_exec.v0+json';\n",
       "var CLASS_NAME = 'output';\n",
       "\n",
       "/**\n",
       " * Render data to the DOM node\n",
       " */\n",
       "function render(props, node) {\n",
       "  var div = document.createElement(\"div\");\n",
       "  var script = document.createElement(\"script\");\n",
       "  node.appendChild(div);\n",
       "  node.appendChild(script);\n",
       "}\n",
       "\n",
       "/**\n",
       " * Handle when a new output is added\n",
       " */\n",
       "function handle_add_output(event, handle) {\n",
       "  var output_area = handle.output_area;\n",
       "  var output = handle.output;\n",
       "  if ((output.data == undefined) || (!output.data.hasOwnProperty(EXEC_MIME_TYPE))) {\n",
       "    return\n",
       "  }\n",
       "  var id = output.metadata[EXEC_MIME_TYPE][\"id\"];\n",
       "  var toinsert = output_area.element.find(\".\" + CLASS_NAME.split(' ')[0]);\n",
       "  if (id !== undefined) {\n",
       "    var nchildren = toinsert.length;\n",
       "    var html_node = toinsert[nchildren-1].children[0];\n",
       "    html_node.innerHTML = output.data[HTML_MIME_TYPE];\n",
       "    var scripts = [];\n",
       "    var nodelist = html_node.querySelectorAll(\"script\");\n",
       "    for (var i in nodelist) {\n",
       "      if (nodelist.hasOwnProperty(i)) {\n",
       "        scripts.push(nodelist[i])\n",
       "      }\n",
       "    }\n",
       "\n",
       "    scripts.forEach( function (oldScript) {\n",
       "      var newScript = document.createElement(\"script\");\n",
       "      var attrs = [];\n",
       "      var nodemap = oldScript.attributes;\n",
       "      for (var j in nodemap) {\n",
       "        if (nodemap.hasOwnProperty(j)) {\n",
       "          attrs.push(nodemap[j])\n",
       "        }\n",
       "      }\n",
       "      attrs.forEach(function(attr) { newScript.setAttribute(attr.name, attr.value) });\n",
       "      newScript.appendChild(document.createTextNode(oldScript.innerHTML));\n",
       "      oldScript.parentNode.replaceChild(newScript, oldScript);\n",
       "    });\n",
       "    if (JS_MIME_TYPE in output.data) {\n",
       "      toinsert[nchildren-1].children[1].textContent = output.data[JS_MIME_TYPE];\n",
       "    }\n",
       "    output_area._hv_plot_id = id;\n",
       "    if ((window.Bokeh !== undefined) && (id in Bokeh.index)) {\n",
       "      window.PyViz.plot_index[id] = Bokeh.index[id];\n",
       "    } else {\n",
       "      window.PyViz.plot_index[id] = null;\n",
       "    }\n",
       "  } else if (output.metadata[EXEC_MIME_TYPE][\"server_id\"] !== undefined) {\n",
       "    var bk_div = document.createElement(\"div\");\n",
       "    bk_div.innerHTML = output.data[HTML_MIME_TYPE];\n",
       "    var script_attrs = bk_div.children[0].attributes;\n",
       "    for (var i = 0; i < script_attrs.length; i++) {\n",
       "      toinsert[toinsert.length - 1].childNodes[1].setAttribute(script_attrs[i].name, script_attrs[i].value);\n",
       "    }\n",
       "    // store reference to server id on output_area\n",
       "    output_area._bokeh_server_id = output.metadata[EXEC_MIME_TYPE][\"server_id\"];\n",
       "  }\n",
       "}\n",
       "\n",
       "/**\n",
       " * Handle when an output is cleared or removed\n",
       " */\n",
       "function handle_clear_output(event, handle) {\n",
       "  var id = handle.cell.output_area._hv_plot_id;\n",
       "  var server_id = handle.cell.output_area._bokeh_server_id;\n",
       "  if (((id === undefined) || !(id in PyViz.plot_index)) && (server_id !== undefined)) { return; }\n",
       "  var comm = window.PyViz.comm_manager.get_client_comm(\"hv-extension-comm\", \"hv-extension-comm\", function () {});\n",
       "  if (server_id !== null) {\n",
       "    comm.send({event_type: 'server_delete', 'id': server_id});\n",
       "    return;\n",
       "  } else if (comm !== null) {\n",
       "    comm.send({event_type: 'delete', 'id': id});\n",
       "  }\n",
       "  delete PyViz.plot_index[id];\n",
       "  if ((window.Bokeh !== undefined) & (id in window.Bokeh.index)) {\n",
       "    var doc = window.Bokeh.index[id].model.document\n",
       "    doc.clear();\n",
       "    const i = window.Bokeh.documents.indexOf(doc);\n",
       "    if (i > -1) {\n",
       "      window.Bokeh.documents.splice(i, 1);\n",
       "    }\n",
       "  }\n",
       "}\n",
       "\n",
       "/**\n",
       " * Handle kernel restart event\n",
       " */\n",
       "function handle_kernel_cleanup(event, handle) {\n",
       "  delete PyViz.comms[\"hv-extension-comm\"];\n",
       "  window.PyViz.plot_index = {}\n",
       "}\n",
       "\n",
       "/**\n",
       " * Handle update_display_data messages\n",
       " */\n",
       "function handle_update_output(event, handle) {\n",
       "  handle_clear_output(event, {cell: {output_area: handle.output_area}})\n",
       "  handle_add_output(event, handle)\n",
       "}\n",
       "\n",
       "function register_renderer(events, OutputArea) {\n",
       "  function append_mime(data, metadata, element) {\n",
       "    // create a DOM node to render to\n",
       "    var toinsert = this.create_output_subarea(\n",
       "    metadata,\n",
       "    CLASS_NAME,\n",
       "    EXEC_MIME_TYPE\n",
       "    );\n",
       "    this.keyboard_manager.register_events(toinsert);\n",
       "    // Render to node\n",
       "    var props = {data: data, metadata: metadata[EXEC_MIME_TYPE]};\n",
       "    render(props, toinsert[0]);\n",
       "    element.append(toinsert);\n",
       "    return toinsert\n",
       "  }\n",
       "\n",
       "  events.on('output_added.OutputArea', handle_add_output);\n",
       "  events.on('output_updated.OutputArea', handle_update_output);\n",
       "  events.on('clear_output.CodeCell', handle_clear_output);\n",
       "  events.on('delete.Cell', handle_clear_output);\n",
       "  events.on('kernel_ready.Kernel', handle_kernel_cleanup);\n",
       "\n",
       "  OutputArea.prototype.register_mime_type(EXEC_MIME_TYPE, append_mime, {\n",
       "    safe: true,\n",
       "    index: 0\n",
       "  });\n",
       "}\n",
       "\n",
       "if (window.Jupyter !== undefined) {\n",
       "  try {\n",
       "    var events = require('base/js/events');\n",
       "    var OutputArea = require('notebook/js/outputarea').OutputArea;\n",
       "    if (OutputArea.prototype.mime_types().indexOf(EXEC_MIME_TYPE) == -1) {\n",
       "      register_renderer(events, OutputArea);\n",
       "    }\n",
       "  } catch(err) {\n",
       "  }\n",
       "}\n"
      ],
      "application/vnd.holoviews_load.v0+json": "\nif ((window.PyViz === undefined) || (window.PyViz instanceof HTMLElement)) {\n  window.PyViz = {comms: {}, comm_status:{}, kernels:{}, receivers: {}, plot_index: []}\n}\n\n\n    function JupyterCommManager() {\n    }\n\n    JupyterCommManager.prototype.register_target = function(plot_id, comm_id, msg_handler) {\n      if (window.comm_manager || ((window.Jupyter !== undefined) && (Jupyter.notebook.kernel != null))) {\n        var comm_manager = window.comm_manager || Jupyter.notebook.kernel.comm_manager;\n        comm_manager.register_target(comm_id, function(comm) {\n          comm.on_msg(msg_handler);\n        });\n      } else if ((plot_id in window.PyViz.kernels) && (window.PyViz.kernels[plot_id])) {\n        window.PyViz.kernels[plot_id].registerCommTarget(comm_id, function(comm) {\n          comm.onMsg = msg_handler;\n        });\n      } else if (typeof google != 'undefined' && google.colab.kernel != null) {\n        google.colab.kernel.comms.registerTarget(comm_id, (comm) => {\n          var messages = comm.messages[Symbol.asyncIterator]();\n          function processIteratorResult(result) {\n            var message = result.value;\n            console.log(message)\n            var content = {data: message.data, comm_id};\n            var buffers = []\n            for (var buffer of message.buffers || []) {\n              buffers.push(new DataView(buffer))\n            }\n            var metadata = message.metadata || {};\n            var msg = {content, buffers, metadata}\n            msg_handler(msg);\n            return messages.next().then(processIteratorResult);\n          }\n          return messages.next().then(processIteratorResult);\n        })\n      }\n    }\n\n    JupyterCommManager.prototype.get_client_comm = function(plot_id, comm_id, msg_handler) {\n      if (comm_id in window.PyViz.comms) {\n        return window.PyViz.comms[comm_id];\n      } else if (window.comm_manager || ((window.Jupyter !== undefined) && (Jupyter.notebook.kernel != null))) {\n        var comm_manager = window.comm_manager || Jupyter.notebook.kernel.comm_manager;\n        var comm = comm_manager.new_comm(comm_id, {}, {}, {}, comm_id);\n        if (msg_handler) {\n          comm.on_msg(msg_handler);\n        }\n      } else if ((plot_id in window.PyViz.kernels) && (window.PyViz.kernels[plot_id])) {\n        var comm = window.PyViz.kernels[plot_id].connectToComm(comm_id);\n        comm.open();\n        if (msg_handler) {\n          comm.onMsg = msg_handler;\n        }\n      } else if (typeof google != 'undefined' && google.colab.kernel != null) {\n        var comm_promise = google.colab.kernel.comms.open(comm_id)\n        comm_promise.then((comm) => {\n          window.PyViz.comms[comm_id] = comm;\n          if (msg_handler) {\n            var messages = comm.messages[Symbol.asyncIterator]();\n            function processIteratorResult(result) {\n              var message = result.value;\n              var content = {data: message.data};\n              var metadata = message.metadata || {comm_id};\n              var msg = {content, metadata}\n              msg_handler(msg);\n              return messages.next().then(processIteratorResult);\n            }\n            return messages.next().then(processIteratorResult);\n          }\n        }) \n        var sendClosure = (data, metadata, buffers, disposeOnDone) => {\n          return comm_promise.then((comm) => {\n            comm.send(data, metadata, buffers, disposeOnDone);\n          });\n        };\n        var comm = {\n          send: sendClosure\n        };\n      }\n      window.PyViz.comms[comm_id] = comm;\n      return comm;\n    }\n    window.PyViz.comm_manager = new JupyterCommManager();\n    \n\n\nvar JS_MIME_TYPE = 'application/javascript';\nvar HTML_MIME_TYPE = 'text/html';\nvar EXEC_MIME_TYPE = 'application/vnd.holoviews_exec.v0+json';\nvar CLASS_NAME = 'output';\n\n/**\n * Render data to the DOM node\n */\nfunction render(props, node) {\n  var div = document.createElement(\"div\");\n  var script = document.createElement(\"script\");\n  node.appendChild(div);\n  node.appendChild(script);\n}\n\n/**\n * Handle when a new output is added\n */\nfunction handle_add_output(event, handle) {\n  var output_area = handle.output_area;\n  var output = handle.output;\n  if ((output.data == undefined) || (!output.data.hasOwnProperty(EXEC_MIME_TYPE))) {\n    return\n  }\n  var id = output.metadata[EXEC_MIME_TYPE][\"id\"];\n  var toinsert = output_area.element.find(\".\" + CLASS_NAME.split(' ')[0]);\n  if (id !== undefined) {\n    var nchildren = toinsert.length;\n    var html_node = toinsert[nchildren-1].children[0];\n    html_node.innerHTML = output.data[HTML_MIME_TYPE];\n    var scripts = [];\n    var nodelist = html_node.querySelectorAll(\"script\");\n    for (var i in nodelist) {\n      if (nodelist.hasOwnProperty(i)) {\n        scripts.push(nodelist[i])\n      }\n    }\n\n    scripts.forEach( function (oldScript) {\n      var newScript = document.createElement(\"script\");\n      var attrs = [];\n      var nodemap = oldScript.attributes;\n      for (var j in nodemap) {\n        if (nodemap.hasOwnProperty(j)) {\n          attrs.push(nodemap[j])\n        }\n      }\n      attrs.forEach(function(attr) { newScript.setAttribute(attr.name, attr.value) });\n      newScript.appendChild(document.createTextNode(oldScript.innerHTML));\n      oldScript.parentNode.replaceChild(newScript, oldScript);\n    });\n    if (JS_MIME_TYPE in output.data) {\n      toinsert[nchildren-1].children[1].textContent = output.data[JS_MIME_TYPE];\n    }\n    output_area._hv_plot_id = id;\n    if ((window.Bokeh !== undefined) && (id in Bokeh.index)) {\n      window.PyViz.plot_index[id] = Bokeh.index[id];\n    } else {\n      window.PyViz.plot_index[id] = null;\n    }\n  } else if (output.metadata[EXEC_MIME_TYPE][\"server_id\"] !== undefined) {\n    var bk_div = document.createElement(\"div\");\n    bk_div.innerHTML = output.data[HTML_MIME_TYPE];\n    var script_attrs = bk_div.children[0].attributes;\n    for (var i = 0; i < script_attrs.length; i++) {\n      toinsert[toinsert.length - 1].childNodes[1].setAttribute(script_attrs[i].name, script_attrs[i].value);\n    }\n    // store reference to server id on output_area\n    output_area._bokeh_server_id = output.metadata[EXEC_MIME_TYPE][\"server_id\"];\n  }\n}\n\n/**\n * Handle when an output is cleared or removed\n */\nfunction handle_clear_output(event, handle) {\n  var id = handle.cell.output_area._hv_plot_id;\n  var server_id = handle.cell.output_area._bokeh_server_id;\n  if (((id === undefined) || !(id in PyViz.plot_index)) && (server_id !== undefined)) { return; }\n  var comm = window.PyViz.comm_manager.get_client_comm(\"hv-extension-comm\", \"hv-extension-comm\", function () {});\n  if (server_id !== null) {\n    comm.send({event_type: 'server_delete', 'id': server_id});\n    return;\n  } else if (comm !== null) {\n    comm.send({event_type: 'delete', 'id': id});\n  }\n  delete PyViz.plot_index[id];\n  if ((window.Bokeh !== undefined) & (id in window.Bokeh.index)) {\n    var doc = window.Bokeh.index[id].model.document\n    doc.clear();\n    const i = window.Bokeh.documents.indexOf(doc);\n    if (i > -1) {\n      window.Bokeh.documents.splice(i, 1);\n    }\n  }\n}\n\n/**\n * Handle kernel restart event\n */\nfunction handle_kernel_cleanup(event, handle) {\n  delete PyViz.comms[\"hv-extension-comm\"];\n  window.PyViz.plot_index = {}\n}\n\n/**\n * Handle update_display_data messages\n */\nfunction handle_update_output(event, handle) {\n  handle_clear_output(event, {cell: {output_area: handle.output_area}})\n  handle_add_output(event, handle)\n}\n\nfunction register_renderer(events, OutputArea) {\n  function append_mime(data, metadata, element) {\n    // create a DOM node to render to\n    var toinsert = this.create_output_subarea(\n    metadata,\n    CLASS_NAME,\n    EXEC_MIME_TYPE\n    );\n    this.keyboard_manager.register_events(toinsert);\n    // Render to node\n    var props = {data: data, metadata: metadata[EXEC_MIME_TYPE]};\n    render(props, toinsert[0]);\n    element.append(toinsert);\n    return toinsert\n  }\n\n  events.on('output_added.OutputArea', handle_add_output);\n  events.on('output_updated.OutputArea', handle_update_output);\n  events.on('clear_output.CodeCell', handle_clear_output);\n  events.on('delete.Cell', handle_clear_output);\n  events.on('kernel_ready.Kernel', handle_kernel_cleanup);\n\n  OutputArea.prototype.register_mime_type(EXEC_MIME_TYPE, append_mime, {\n    safe: true,\n    index: 0\n  });\n}\n\nif (window.Jupyter !== undefined) {\n  try {\n    var events = require('base/js/events');\n    var OutputArea = require('notebook/js/outputarea').OutputArea;\n    if (OutputArea.prototype.mime_types().indexOf(EXEC_MIME_TYPE) == -1) {\n      register_renderer(events, OutputArea);\n    }\n  } catch(err) {\n  }\n}\n"
     },
     "metadata": {},
     "output_type": "display_data"
    },
    {
     "data": {
      "text/html": [
       "<style>.bk-root, .bk-root .bk:before, .bk-root .bk:after {\n",
       "  font-family: var(--jp-ui-font-size1);\n",
       "  font-size: var(--jp-ui-font-size1);\n",
       "  color: var(--jp-ui-font-color1);\n",
       "}\n",
       "</style>"
      ]
     },
     "metadata": {},
     "output_type": "display_data"
    },
    {
     "data": {},
     "metadata": {},
     "output_type": "display_data"
    },
    {
     "data": {
      "application/vnd.holoviews_exec.v0+json": "",
      "text/html": [
       "<div id='1002'>\n",
       "  <div class=\"bk-root\" id=\"c38a9feb-be36-4902-9768-6ee0bcb64406\" data-root-id=\"1002\"></div>\n",
       "</div>\n",
       "<script type=\"application/javascript\">(function(root) {\n",
       "  function embed_document(root) {\n",
       "    var docs_json = {\"38bf706e-18f6-4ac3-a3a0-cc97ee8ac463\":{\"defs\":[{\"extends\":null,\"module\":null,\"name\":\"ReactiveHTML1\",\"overrides\":[],\"properties\":[]},{\"extends\":null,\"module\":null,\"name\":\"FlexBox1\",\"overrides\":[],\"properties\":[{\"default\":\"flex-start\",\"kind\":null,\"name\":\"align_content\"},{\"default\":\"flex-start\",\"kind\":null,\"name\":\"align_items\"},{\"default\":\"row\",\"kind\":null,\"name\":\"flex_direction\"},{\"default\":\"wrap\",\"kind\":null,\"name\":\"flex_wrap\"},{\"default\":\"flex-start\",\"kind\":null,\"name\":\"justify_content\"}]},{\"extends\":null,\"module\":null,\"name\":\"GridStack1\",\"overrides\":[],\"properties\":[{\"default\":\"warn\",\"kind\":null,\"name\":\"mode\"},{\"default\":null,\"kind\":null,\"name\":\"ncols\"},{\"default\":null,\"kind\":null,\"name\":\"nrows\"},{\"default\":true,\"kind\":null,\"name\":\"allow_resize\"},{\"default\":true,\"kind\":null,\"name\":\"allow_drag\"},{\"default\":[],\"kind\":null,\"name\":\"state\"}]},{\"extends\":null,\"module\":null,\"name\":\"click1\",\"overrides\":[],\"properties\":[{\"default\":\"\",\"kind\":null,\"name\":\"terminal_output\"},{\"default\":\"\",\"kind\":null,\"name\":\"debug_name\"},{\"default\":0,\"kind\":null,\"name\":\"clears\"}]},{\"extends\":null,\"module\":null,\"name\":\"NotificationAreaBase1\",\"overrides\":[],\"properties\":[{\"default\":\"bottom-right\",\"kind\":null,\"name\":\"position\"},{\"default\":0,\"kind\":null,\"name\":\"_clear\"}]},{\"extends\":null,\"module\":null,\"name\":\"NotificationArea1\",\"overrides\":[],\"properties\":[{\"default\":[],\"kind\":null,\"name\":\"notifications\"},{\"default\":\"bottom-right\",\"kind\":null,\"name\":\"position\"},{\"default\":0,\"kind\":null,\"name\":\"_clear\"},{\"default\":[{\"background\":\"#ffc107\",\"icon\":{\"className\":\"fas fa-exclamation-triangle\",\"color\":\"white\",\"tagName\":\"i\"},\"type\":\"warning\"},{\"background\":\"#007bff\",\"icon\":{\"className\":\"fas fa-info-circle\",\"color\":\"white\",\"tagName\":\"i\"},\"type\":\"info\"}],\"kind\":null,\"name\":\"types\"}]},{\"extends\":null,\"module\":null,\"name\":\"Notification\",\"overrides\":[],\"properties\":[{\"default\":null,\"kind\":null,\"name\":\"background\"},{\"default\":3000,\"kind\":null,\"name\":\"duration\"},{\"default\":null,\"kind\":null,\"name\":\"icon\"},{\"default\":\"\",\"kind\":null,\"name\":\"message\"},{\"default\":null,\"kind\":null,\"name\":\"notification_type\"},{\"default\":false,\"kind\":null,\"name\":\"_destroyed\"}]},{\"extends\":null,\"module\":null,\"name\":\"TemplateActions1\",\"overrides\":[],\"properties\":[{\"default\":0,\"kind\":null,\"name\":\"open_modal\"},{\"default\":0,\"kind\":null,\"name\":\"close_modal\"}]},{\"extends\":null,\"module\":null,\"name\":\"MaterialTemplateActions1\",\"overrides\":[],\"properties\":[{\"default\":0,\"kind\":null,\"name\":\"open_modal\"},{\"default\":0,\"kind\":null,\"name\":\"close_modal\"}]}],\"roots\":{\"references\":[{\"attributes\":{\"client_comm_id\":\"327d54e0fced4eb2b53b61963981eaa3\",\"comm_id\":\"55b95475174b4ee5b9ff92280f459eaf\",\"plot_id\":\"1002\"},\"id\":\"1003\",\"type\":\"panel.models.comm_manager.CommManager\"},{\"attributes\":{\"reload\":false},\"id\":\"1004\",\"type\":\"panel.models.location.Location\"},{\"attributes\":{\"css_classes\":[\"markdown\"],\"margin\":[5,5,5,5],\"name\":\"Markdown00101\",\"sizing_mode\":\"stretch_width\",\"text\":\"&lt;h2&gt; Panel App to visualise features interactively.&lt;/h2&gt;\"},\"id\":\"1002\",\"type\":\"panel.models.markup.HTML\"}],\"root_ids\":[\"1002\",\"1003\",\"1004\"]},\"title\":\"Bokeh Application\",\"version\":\"2.4.3\"}};\n",
       "    var render_items = [{\"docid\":\"38bf706e-18f6-4ac3-a3a0-cc97ee8ac463\",\"root_ids\":[\"1002\"],\"roots\":{\"1002\":\"c38a9feb-be36-4902-9768-6ee0bcb64406\"}}];\n",
       "    root.Bokeh.embed.embed_items_notebook(docs_json, render_items);\n",
       "  }\n",
       "  if (root.Bokeh !== undefined && root.Bokeh.Panel !== undefined) {\n",
       "    embed_document(root);\n",
       "  } else {\n",
       "    var attempts = 0;\n",
       "    var timer = setInterval(function(root) {\n",
       "      if (root.Bokeh !== undefined && root.Bokeh.Panel !== undefined) {\n",
       "        clearInterval(timer);\n",
       "        embed_document(root);\n",
       "      } else if (document.readyState == \"complete\") {\n",
       "        attempts++;\n",
       "        if (attempts > 200) {\n",
       "          clearInterval(timer);\n",
       "          console.log(\"Bokeh: ERROR: Unable to run BokehJS code because BokehJS library is missing\");\n",
       "        }\n",
       "      }\n",
       "    }, 25, root)\n",
       "  }\n",
       "})(window);</script>"
      ],
      "text/plain": [
       "Markdown(str, sizing_mode='stretch_width')"
      ]
     },
     "execution_count": 4,
     "metadata": {
      "application/vnd.holoviews_exec.v0+json": {
       "id": "1002"
      }
     },
     "output_type": "execute_result"
    }
   ],
   "source": [
    "def get_plot(data, x_col='source', y_col='transactions'):\n",
    "    x = data.groupby(x_col, as_index=False)[y_col].sum().sort_values(by=y_col, ascending=False).head(15)\n",
    "    fig = Figure(figsize=(10,5))\n",
    "    ax = fig.add_subplot()\n",
    "    ax.barh(x[x_col],x[y_col])\n",
    "    ax.set_xlabel(y_col)\n",
    "    ax.set_ylabel(x_col)\n",
    "    ax.set_title(x_col+' vs '+ y_col)\n",
    "    \n",
    "    # hover-feature\n",
    "    cursor = mplcursors.cursor(hover=True)\n",
    "    @cursor.connect(\"add\")\n",
    "    def on_add(sel):\n",
    "        sel.annotation.set(text=x[sel.target.index])\n",
    "        \n",
    "    fig.canvas.toolbar_visible = True\n",
    "    fig.canvas.header_visible = False\n",
    "    fig.canvas.resizable = True\n",
    "    return fig\n",
    "\n",
    "pn.extension(sizing_mode=\"stretch_width\", template=\"fast\")\n",
    "pn.pane.Markdown(\"\"\"\n",
    "<h2> Panel App to visualise features interactively.</h2>\n",
    "\"\"\"\n",
    ").servable()"
   ]
  },
  {
   "cell_type": "code",
   "execution_count": 5,
   "id": "e6ebd2fa",
   "metadata": {},
   "outputs": [
    {
     "data": {},
     "metadata": {},
     "output_type": "display_data"
    },
    {
     "data": {
      "application/vnd.holoviews_exec.v0+json": "",
      "text/html": [
       "<div id='1005'>\n",
       "  <div class=\"bk-root\" id=\"84a20072-53dd-42c4-ad79-da1c4df11da4\" data-root-id=\"1005\"></div>\n",
       "</div>\n",
       "<script type=\"application/javascript\">(function(root) {\n",
       "  function embed_document(root) {\n",
       "    var docs_json = {\"28b6b707-c40b-4088-a4db-47273425670b\":{\"defs\":[{\"extends\":null,\"module\":null,\"name\":\"ReactiveHTML1\",\"overrides\":[],\"properties\":[]},{\"extends\":null,\"module\":null,\"name\":\"FlexBox1\",\"overrides\":[],\"properties\":[{\"default\":\"flex-start\",\"kind\":null,\"name\":\"align_content\"},{\"default\":\"flex-start\",\"kind\":null,\"name\":\"align_items\"},{\"default\":\"row\",\"kind\":null,\"name\":\"flex_direction\"},{\"default\":\"wrap\",\"kind\":null,\"name\":\"flex_wrap\"},{\"default\":\"flex-start\",\"kind\":null,\"name\":\"justify_content\"}]},{\"extends\":null,\"module\":null,\"name\":\"GridStack1\",\"overrides\":[],\"properties\":[{\"default\":\"warn\",\"kind\":null,\"name\":\"mode\"},{\"default\":null,\"kind\":null,\"name\":\"ncols\"},{\"default\":null,\"kind\":null,\"name\":\"nrows\"},{\"default\":true,\"kind\":null,\"name\":\"allow_resize\"},{\"default\":true,\"kind\":null,\"name\":\"allow_drag\"},{\"default\":[],\"kind\":null,\"name\":\"state\"}]},{\"extends\":null,\"module\":null,\"name\":\"click1\",\"overrides\":[],\"properties\":[{\"default\":\"\",\"kind\":null,\"name\":\"terminal_output\"},{\"default\":\"\",\"kind\":null,\"name\":\"debug_name\"},{\"default\":0,\"kind\":null,\"name\":\"clears\"}]},{\"extends\":null,\"module\":null,\"name\":\"NotificationAreaBase1\",\"overrides\":[],\"properties\":[{\"default\":\"bottom-right\",\"kind\":null,\"name\":\"position\"},{\"default\":0,\"kind\":null,\"name\":\"_clear\"}]},{\"extends\":null,\"module\":null,\"name\":\"NotificationArea1\",\"overrides\":[],\"properties\":[{\"default\":[],\"kind\":null,\"name\":\"notifications\"},{\"default\":\"bottom-right\",\"kind\":null,\"name\":\"position\"},{\"default\":0,\"kind\":null,\"name\":\"_clear\"},{\"default\":[{\"background\":\"#ffc107\",\"icon\":{\"className\":\"fas fa-exclamation-triangle\",\"color\":\"white\",\"tagName\":\"i\"},\"type\":\"warning\"},{\"background\":\"#007bff\",\"icon\":{\"className\":\"fas fa-info-circle\",\"color\":\"white\",\"tagName\":\"i\"},\"type\":\"info\"}],\"kind\":null,\"name\":\"types\"}]},{\"extends\":null,\"module\":null,\"name\":\"Notification\",\"overrides\":[],\"properties\":[{\"default\":null,\"kind\":null,\"name\":\"background\"},{\"default\":3000,\"kind\":null,\"name\":\"duration\"},{\"default\":null,\"kind\":null,\"name\":\"icon\"},{\"default\":\"\",\"kind\":null,\"name\":\"message\"},{\"default\":null,\"kind\":null,\"name\":\"notification_type\"},{\"default\":false,\"kind\":null,\"name\":\"_destroyed\"}]},{\"extends\":null,\"module\":null,\"name\":\"TemplateActions1\",\"overrides\":[],\"properties\":[{\"default\":0,\"kind\":null,\"name\":\"open_modal\"},{\"default\":0,\"kind\":null,\"name\":\"close_modal\"}]},{\"extends\":null,\"module\":null,\"name\":\"MaterialTemplateActions1\",\"overrides\":[],\"properties\":[{\"default\":0,\"kind\":null,\"name\":\"open_modal\"},{\"default\":0,\"kind\":null,\"name\":\"close_modal\"}]}],\"roots\":{\"references\":[{\"attributes\":{\"margin\":[5,10,5,10],\"options\":[\"date_week\",\"isMobile\",\"source\",\"medium\",\"referralPath\",\"region\",\"visits\",\"bounces\",\"transactions\",\"totalTransactionRevenue\"],\"sizing_mode\":\"stretch_width\",\"title\":\"Variable\",\"value\":\"source\"},\"id\":\"1005\",\"type\":\"panel.models.widgets.CustomSelect\"},{\"attributes\":{\"client_comm_id\":\"876b18bd9a1a440cba9021bfebf0ed19\",\"comm_id\":\"0bc8788bb02b48ebb4c6b0c1c29d0a32\",\"plot_id\":\"1005\"},\"id\":\"1006\",\"type\":\"panel.models.comm_manager.CommManager\"}],\"root_ids\":[\"1005\",\"1006\"]},\"title\":\"Bokeh Application\",\"version\":\"2.4.3\"}};\n",
       "    var render_items = [{\"docid\":\"28b6b707-c40b-4088-a4db-47273425670b\",\"root_ids\":[\"1005\"],\"roots\":{\"1005\":\"84a20072-53dd-42c4-ad79-da1c4df11da4\"}}];\n",
       "    root.Bokeh.embed.embed_items_notebook(docs_json, render_items);\n",
       "  }\n",
       "  if (root.Bokeh !== undefined && root.Bokeh.Panel !== undefined) {\n",
       "    embed_document(root);\n",
       "  } else {\n",
       "    var attempts = 0;\n",
       "    var timer = setInterval(function(root) {\n",
       "      if (root.Bokeh !== undefined && root.Bokeh.Panel !== undefined) {\n",
       "        clearInterval(timer);\n",
       "        embed_document(root);\n",
       "      } else if (document.readyState == \"complete\") {\n",
       "        attempts++;\n",
       "        if (attempts > 200) {\n",
       "          clearInterval(timer);\n",
       "          console.log(\"Bokeh: ERROR: Unable to run BokehJS code because BokehJS library is missing\");\n",
       "        }\n",
       "      }\n",
       "    }, 25, root)\n",
       "  }\n",
       "})(window);</script>"
      ],
      "text/plain": [
       "Select(name='Variable', options=['date_week', ...], sizing_mode='stretch_width', value='source')"
      ]
     },
     "execution_count": 5,
     "metadata": {
      "application/vnd.holoviews_exec.v0+json": {
       "id": "1005"
      }
     },
     "output_type": "execute_result"
    }
   ],
   "source": [
    "variable = pn.widgets.Select(\n",
    "    name=\"Variable\", value=\"source\", options=list(mc.columns)\n",
    ")\n",
    "variable.servable(area=\"sidebar\")"
   ]
  },
  {
   "cell_type": "code",
   "execution_count": 6,
   "id": "4fa54e2b",
   "metadata": {},
   "outputs": [
    {
     "data": {},
     "metadata": {},
     "output_type": "display_data"
    },
    {
     "data": {
      "application/vnd.holoviews_exec.v0+json": "",
      "text/html": [
       "<div id='1007'>\n",
       "  <div class=\"bk-root\" id=\"c8ff59a2-78fc-474b-9db3-a784ef36bb63\" data-root-id=\"1007\"></div>\n",
       "</div>\n",
       "<script type=\"application/javascript\">(function(root) {\n",
       "  function embed_document(root) {\n",
       "    var docs_json = {\"1df9799a-3727-49c1-9ecd-f86f0dd7c3a9\":{\"defs\":[{\"extends\":null,\"module\":null,\"name\":\"ReactiveHTML1\",\"overrides\":[],\"properties\":[]},{\"extends\":null,\"module\":null,\"name\":\"FlexBox1\",\"overrides\":[],\"properties\":[{\"default\":\"flex-start\",\"kind\":null,\"name\":\"align_content\"},{\"default\":\"flex-start\",\"kind\":null,\"name\":\"align_items\"},{\"default\":\"row\",\"kind\":null,\"name\":\"flex_direction\"},{\"default\":\"wrap\",\"kind\":null,\"name\":\"flex_wrap\"},{\"default\":\"flex-start\",\"kind\":null,\"name\":\"justify_content\"}]},{\"extends\":null,\"module\":null,\"name\":\"GridStack1\",\"overrides\":[],\"properties\":[{\"default\":\"warn\",\"kind\":null,\"name\":\"mode\"},{\"default\":null,\"kind\":null,\"name\":\"ncols\"},{\"default\":null,\"kind\":null,\"name\":\"nrows\"},{\"default\":true,\"kind\":null,\"name\":\"allow_resize\"},{\"default\":true,\"kind\":null,\"name\":\"allow_drag\"},{\"default\":[],\"kind\":null,\"name\":\"state\"}]},{\"extends\":null,\"module\":null,\"name\":\"click1\",\"overrides\":[],\"properties\":[{\"default\":\"\",\"kind\":null,\"name\":\"terminal_output\"},{\"default\":\"\",\"kind\":null,\"name\":\"debug_name\"},{\"default\":0,\"kind\":null,\"name\":\"clears\"}]},{\"extends\":null,\"module\":null,\"name\":\"NotificationAreaBase1\",\"overrides\":[],\"properties\":[{\"default\":\"bottom-right\",\"kind\":null,\"name\":\"position\"},{\"default\":0,\"kind\":null,\"name\":\"_clear\"}]},{\"extends\":null,\"module\":null,\"name\":\"NotificationArea1\",\"overrides\":[],\"properties\":[{\"default\":[],\"kind\":null,\"name\":\"notifications\"},{\"default\":\"bottom-right\",\"kind\":null,\"name\":\"position\"},{\"default\":0,\"kind\":null,\"name\":\"_clear\"},{\"default\":[{\"background\":\"#ffc107\",\"icon\":{\"className\":\"fas fa-exclamation-triangle\",\"color\":\"white\",\"tagName\":\"i\"},\"type\":\"warning\"},{\"background\":\"#007bff\",\"icon\":{\"className\":\"fas fa-info-circle\",\"color\":\"white\",\"tagName\":\"i\"},\"type\":\"info\"}],\"kind\":null,\"name\":\"types\"}]},{\"extends\":null,\"module\":null,\"name\":\"Notification\",\"overrides\":[],\"properties\":[{\"default\":null,\"kind\":null,\"name\":\"background\"},{\"default\":3000,\"kind\":null,\"name\":\"duration\"},{\"default\":null,\"kind\":null,\"name\":\"icon\"},{\"default\":\"\",\"kind\":null,\"name\":\"message\"},{\"default\":null,\"kind\":null,\"name\":\"notification_type\"},{\"default\":false,\"kind\":null,\"name\":\"_destroyed\"}]},{\"extends\":null,\"module\":null,\"name\":\"TemplateActions1\",\"overrides\":[],\"properties\":[{\"default\":0,\"kind\":null,\"name\":\"open_modal\"},{\"default\":0,\"kind\":null,\"name\":\"close_modal\"}]},{\"extends\":null,\"module\":null,\"name\":\"MaterialTemplateActions1\",\"overrides\":[],\"properties\":[{\"default\":0,\"kind\":null,\"name\":\"open_modal\"},{\"default\":0,\"kind\":null,\"name\":\"close_modal\"}]}],\"roots\":{\"references\":[{\"attributes\":{\"margin\":[5,10,5,10],\"options\":[\"bounces\",\"visits\",\"transactions\",\"totalTransactionRevenue\"],\"sizing_mode\":\"stretch_width\",\"title\":\"Output\",\"value\":\"transactions\"},\"id\":\"1007\",\"type\":\"panel.models.widgets.CustomSelect\"},{\"attributes\":{\"client_comm_id\":\"fab68690135642fd84ea87220bd6b198\",\"comm_id\":\"9aae992859c3453dbf1d68aeefd2f0c6\",\"plot_id\":\"1007\"},\"id\":\"1008\",\"type\":\"panel.models.comm_manager.CommManager\"}],\"root_ids\":[\"1007\",\"1008\"]},\"title\":\"Bokeh Application\",\"version\":\"2.4.3\"}};\n",
       "    var render_items = [{\"docid\":\"1df9799a-3727-49c1-9ecd-f86f0dd7c3a9\",\"root_ids\":[\"1007\"],\"roots\":{\"1007\":\"c8ff59a2-78fc-474b-9db3-a784ef36bb63\"}}];\n",
       "    root.Bokeh.embed.embed_items_notebook(docs_json, render_items);\n",
       "  }\n",
       "  if (root.Bokeh !== undefined && root.Bokeh.Panel !== undefined) {\n",
       "    embed_document(root);\n",
       "  } else {\n",
       "    var attempts = 0;\n",
       "    var timer = setInterval(function(root) {\n",
       "      if (root.Bokeh !== undefined && root.Bokeh.Panel !== undefined) {\n",
       "        clearInterval(timer);\n",
       "        embed_document(root);\n",
       "      } else if (document.readyState == \"complete\") {\n",
       "        attempts++;\n",
       "        if (attempts > 200) {\n",
       "          clearInterval(timer);\n",
       "          console.log(\"Bokeh: ERROR: Unable to run BokehJS code because BokehJS library is missing\");\n",
       "        }\n",
       "      }\n",
       "    }, 25, root)\n",
       "  }\n",
       "})(window);</script>"
      ],
      "text/plain": [
       "Select(name='Output', options=['bounces', 'visits', ...], sizing_mode='stretch_width', value='transactions')"
      ]
     },
     "execution_count": 6,
     "metadata": {
      "application/vnd.holoviews_exec.v0+json": {
       "id": "1007"
      }
     },
     "output_type": "execute_result"
    }
   ],
   "source": [
    "independent = pn.widgets.Select(\n",
    "    name=\"Output\", value=\"transactions\", options=['bounces','visits', 'transactions', 'totalTransactionRevenue']\n",
    ")\n",
    "independent.servable(area=\"sidebar\")"
   ]
  },
  {
   "cell_type": "code",
   "execution_count": 7,
   "id": "ed7d3ae5",
   "metadata": {
    "scrolled": false
   },
   "outputs": [
    {
     "data": {},
     "metadata": {},
     "output_type": "display_data"
    },
    {
     "data": {
      "application/vnd.holoviews_exec.v0+json": "",
      "text/html": [
       "<div id='1009'>\n",
       "  <div class=\"bk-root\" id=\"d6ac9cd2-917d-40b7-a536-60316f57be5c\" data-root-id=\"1009\"></div>\n",
       "</div>\n",
       "<script type=\"application/javascript\">(function(root) {\n",
       "  function embed_document(root) {\n",
       "    var docs_json = {\"29748fcf-89f0-4bc3-8783-a9fc36d80f55\":{\"defs\":[{\"extends\":null,\"module\":null,\"name\":\"ReactiveHTML1\",\"overrides\":[],\"properties\":[]},{\"extends\":null,\"module\":null,\"name\":\"FlexBox1\",\"overrides\":[],\"properties\":[{\"default\":\"flex-start\",\"kind\":null,\"name\":\"align_content\"},{\"default\":\"flex-start\",\"kind\":null,\"name\":\"align_items\"},{\"default\":\"row\",\"kind\":null,\"name\":\"flex_direction\"},{\"default\":\"wrap\",\"kind\":null,\"name\":\"flex_wrap\"},{\"default\":\"flex-start\",\"kind\":null,\"name\":\"justify_content\"}]},{\"extends\":null,\"module\":null,\"name\":\"GridStack1\",\"overrides\":[],\"properties\":[{\"default\":\"warn\",\"kind\":null,\"name\":\"mode\"},{\"default\":null,\"kind\":null,\"name\":\"ncols\"},{\"default\":null,\"kind\":null,\"name\":\"nrows\"},{\"default\":true,\"kind\":null,\"name\":\"allow_resize\"},{\"default\":true,\"kind\":null,\"name\":\"allow_drag\"},{\"default\":[],\"kind\":null,\"name\":\"state\"}]},{\"extends\":null,\"module\":null,\"name\":\"click1\",\"overrides\":[],\"properties\":[{\"default\":\"\",\"kind\":null,\"name\":\"terminal_output\"},{\"default\":\"\",\"kind\":null,\"name\":\"debug_name\"},{\"default\":0,\"kind\":null,\"name\":\"clears\"}]},{\"extends\":null,\"module\":null,\"name\":\"NotificationAreaBase1\",\"overrides\":[],\"properties\":[{\"default\":\"bottom-right\",\"kind\":null,\"name\":\"position\"},{\"default\":0,\"kind\":null,\"name\":\"_clear\"}]},{\"extends\":null,\"module\":null,\"name\":\"NotificationArea1\",\"overrides\":[],\"properties\":[{\"default\":[],\"kind\":null,\"name\":\"notifications\"},{\"default\":\"bottom-right\",\"kind\":null,\"name\":\"position\"},{\"default\":0,\"kind\":null,\"name\":\"_clear\"},{\"default\":[{\"background\":\"#ffc107\",\"icon\":{\"className\":\"fas fa-exclamation-triangle\",\"color\":\"white\",\"tagName\":\"i\"},\"type\":\"warning\"},{\"background\":\"#007bff\",\"icon\":{\"className\":\"fas fa-info-circle\",\"color\":\"white\",\"tagName\":\"i\"},\"type\":\"info\"}],\"kind\":null,\"name\":\"types\"}]},{\"extends\":null,\"module\":null,\"name\":\"Notification\",\"overrides\":[],\"properties\":[{\"default\":null,\"kind\":null,\"name\":\"background\"},{\"default\":3000,\"kind\":null,\"name\":\"duration\"},{\"default\":null,\"kind\":null,\"name\":\"icon\"},{\"default\":\"\",\"kind\":null,\"name\":\"message\"},{\"default\":null,\"kind\":null,\"name\":\"notification_type\"},{\"default\":false,\"kind\":null,\"name\":\"_destroyed\"}]},{\"extends\":null,\"module\":null,\"name\":\"TemplateActions1\",\"overrides\":[],\"properties\":[{\"default\":0,\"kind\":null,\"name\":\"open_modal\"},{\"default\":0,\"kind\":null,\"name\":\"close_modal\"}]},{\"extends\":null,\"module\":null,\"name\":\"MaterialTemplateActions1\",\"overrides\":[],\"properties\":[{\"default\":0,\"kind\":null,\"name\":\"open_modal\"},{\"default\":0,\"kind\":null,\"name\":\"close_modal\"}]}],\"roots\":{\"references\":[{\"attributes\":{\"height\":720,\"margin\":[5,5,5,5],\"name\":\"ParamFunction00112\",\"sizing_mode\":\"scale_both\",\"text\":\"&lt;img src=&quot;data:image/png;base64,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&quot; width=&quot;100%&quot; height=&quot;auto&quot; alt=&quot;&quot;&gt;&lt;/img&gt;\",\"width\":1440},\"id\":\"1010\",\"type\":\"panel.models.markup.HTML\"},{\"attributes\":{\"children\":[{\"id\":\"1010\"}],\"margin\":[0,0,0,0],\"name\":\"Row00116\",\"sizing_mode\":\"scale_both\"},\"id\":\"1009\",\"type\":\"Row\"},{\"attributes\":{\"client_comm_id\":\"bee474e2ba9b4da49d0f26efefd3fa48\",\"comm_id\":\"cd077eef8b7f4dd18b34cf287dedca66\",\"plot_id\":\"1009\"},\"id\":\"1011\",\"type\":\"panel.models.comm_manager.CommManager\"}],\"root_ids\":[\"1009\",\"1011\"]},\"title\":\"Bokeh Application\",\"version\":\"2.4.3\"}};\n",
       "    var render_items = [{\"docid\":\"29748fcf-89f0-4bc3-8783-a9fc36d80f55\",\"root_ids\":[\"1009\"],\"roots\":{\"1009\":\"d6ac9cd2-917d-40b7-a536-60316f57be5c\"}}];\n",
       "    root.Bokeh.embed.embed_items_notebook(docs_json, render_items);\n",
       "  }\n",
       "  if (root.Bokeh !== undefined && root.Bokeh.Panel !== undefined) {\n",
       "    embed_document(root);\n",
       "  } else {\n",
       "    var attempts = 0;\n",
       "    var timer = setInterval(function(root) {\n",
       "      if (root.Bokeh !== undefined && root.Bokeh.Panel !== undefined) {\n",
       "        clearInterval(timer);\n",
       "        embed_document(root);\n",
       "      } else if (document.readyState == \"complete\") {\n",
       "        attempts++;\n",
       "        if (attempts > 200) {\n",
       "          clearInterval(timer);\n",
       "          console.log(\"Bokeh: ERROR: Unable to run BokehJS code because BokehJS library is missing\");\n",
       "        }\n",
       "      }\n",
       "    }, 25, root)\n",
       "  }\n",
       "})(window);</script>"
      ],
      "text/plain": [
       "ParamFunction(function, sizing_mode='scale_both')"
      ]
     },
     "execution_count": 7,
     "metadata": {
      "application/vnd.holoviews_exec.v0+json": {
       "id": "1009"
      }
     },
     "output_type": "execute_result"
    }
   ],
   "source": [
    "# Reactive Functions\n",
    "mc = mc[mc['transactions']>0]\n",
    "reactive = pn.bind(get_plot, mc, variable, independent)\n",
    "pn.panel(reactive, sizing_mode=\"scale_both\").servable()"
   ]
  },
  {
   "cell_type": "markdown",
   "id": "06be9495",
   "metadata": {},
   "source": [
    "### Observations:"
   ]
  },
  {
   "cell_type": "markdown",
   "id": "58f56a6a",
   "metadata": {},
   "source": [
    "From the above bar chart, we can observe that customers completed their bookings through `direct` and `google` as a source. Hence, it is advisable to spend more on these two 'sources' for advertisements to increase revenue. "
   ]
  },
  {
   "cell_type": "markdown",
   "id": "c1e078fa",
   "metadata": {},
   "source": [
    "## How does bounce rate vary by marketing channel (source & medium)? Are the differences significant?"
   ]
  },
  {
   "cell_type": "code",
   "execution_count": 8,
   "id": "6d66c2db",
   "metadata": {},
   "outputs": [
    {
     "data": {},
     "metadata": {},
     "output_type": "display_data"
    },
    {
     "data": {
      "application/vnd.holoviews_exec.v0+json": "",
      "text/html": [
       "<div id='1012'>\n",
       "  <div class=\"bk-root\" id=\"31753f27-2f31-4efd-8ccd-b0eba34ac43b\" data-root-id=\"1012\"></div>\n",
       "</div>\n",
       "<script type=\"application/javascript\">(function(root) {\n",
       "  function embed_document(root) {\n",
       "    var docs_json = {\"1b865862-4936-4858-9060-0153e6da9fad\":{\"defs\":[{\"extends\":null,\"module\":null,\"name\":\"ReactiveHTML1\",\"overrides\":[],\"properties\":[]},{\"extends\":null,\"module\":null,\"name\":\"FlexBox1\",\"overrides\":[],\"properties\":[{\"default\":\"flex-start\",\"kind\":null,\"name\":\"align_content\"},{\"default\":\"flex-start\",\"kind\":null,\"name\":\"align_items\"},{\"default\":\"row\",\"kind\":null,\"name\":\"flex_direction\"},{\"default\":\"wrap\",\"kind\":null,\"name\":\"flex_wrap\"},{\"default\":\"flex-start\",\"kind\":null,\"name\":\"justify_content\"}]},{\"extends\":null,\"module\":null,\"name\":\"GridStack1\",\"overrides\":[],\"properties\":[{\"default\":\"warn\",\"kind\":null,\"name\":\"mode\"},{\"default\":null,\"kind\":null,\"name\":\"ncols\"},{\"default\":null,\"kind\":null,\"name\":\"nrows\"},{\"default\":true,\"kind\":null,\"name\":\"allow_resize\"},{\"default\":true,\"kind\":null,\"name\":\"allow_drag\"},{\"default\":[],\"kind\":null,\"name\":\"state\"}]},{\"extends\":null,\"module\":null,\"name\":\"click1\",\"overrides\":[],\"properties\":[{\"default\":\"\",\"kind\":null,\"name\":\"terminal_output\"},{\"default\":\"\",\"kind\":null,\"name\":\"debug_name\"},{\"default\":0,\"kind\":null,\"name\":\"clears\"}]},{\"extends\":null,\"module\":null,\"name\":\"NotificationAreaBase1\",\"overrides\":[],\"properties\":[{\"default\":\"bottom-right\",\"kind\":null,\"name\":\"position\"},{\"default\":0,\"kind\":null,\"name\":\"_clear\"}]},{\"extends\":null,\"module\":null,\"name\":\"NotificationArea1\",\"overrides\":[],\"properties\":[{\"default\":[],\"kind\":null,\"name\":\"notifications\"},{\"default\":\"bottom-right\",\"kind\":null,\"name\":\"position\"},{\"default\":0,\"kind\":null,\"name\":\"_clear\"},{\"default\":[{\"background\":\"#ffc107\",\"icon\":{\"className\":\"fas fa-exclamation-triangle\",\"color\":\"white\",\"tagName\":\"i\"},\"type\":\"warning\"},{\"background\":\"#007bff\",\"icon\":{\"className\":\"fas fa-info-circle\",\"color\":\"white\",\"tagName\":\"i\"},\"type\":\"info\"}],\"kind\":null,\"name\":\"types\"}]},{\"extends\":null,\"module\":null,\"name\":\"Notification\",\"overrides\":[],\"properties\":[{\"default\":null,\"kind\":null,\"name\":\"background\"},{\"default\":3000,\"kind\":null,\"name\":\"duration\"},{\"default\":null,\"kind\":null,\"name\":\"icon\"},{\"default\":\"\",\"kind\":null,\"name\":\"message\"},{\"default\":null,\"kind\":null,\"name\":\"notification_type\"},{\"default\":false,\"kind\":null,\"name\":\"_destroyed\"}]},{\"extends\":null,\"module\":null,\"name\":\"TemplateActions1\",\"overrides\":[],\"properties\":[{\"default\":0,\"kind\":null,\"name\":\"open_modal\"},{\"default\":0,\"kind\":null,\"name\":\"close_modal\"}]},{\"extends\":null,\"module\":null,\"name\":\"MaterialTemplateActions1\",\"overrides\":[],\"properties\":[{\"default\":0,\"kind\":null,\"name\":\"open_modal\"},{\"default\":0,\"kind\":null,\"name\":\"close_modal\"}]}],\"roots\":{\"references\":[{\"attributes\":{\"margin\":[5,10,5,10],\"options\":[\"date_week\",\"isMobile\",\"source\",\"medium\",\"referralPath\",\"region\",\"visits\",\"bounces\",\"transactions\",\"totalTransactionRevenue\"],\"sizing_mode\":\"stretch_width\",\"title\":\"Variable\",\"value\":\"medium\"},\"id\":\"1012\",\"type\":\"panel.models.widgets.CustomSelect\"},{\"attributes\":{\"client_comm_id\":\"00c46feb46f7498787bb058e8822ac7d\",\"comm_id\":\"12f3cb4538ab4993a5c2dc67c82f6d57\",\"plot_id\":\"1012\"},\"id\":\"1013\",\"type\":\"panel.models.comm_manager.CommManager\"}],\"root_ids\":[\"1012\",\"1013\"]},\"title\":\"Bokeh Application\",\"version\":\"2.4.3\"}};\n",
       "    var render_items = [{\"docid\":\"1b865862-4936-4858-9060-0153e6da9fad\",\"root_ids\":[\"1012\"],\"roots\":{\"1012\":\"31753f27-2f31-4efd-8ccd-b0eba34ac43b\"}}];\n",
       "    root.Bokeh.embed.embed_items_notebook(docs_json, render_items);\n",
       "  }\n",
       "  if (root.Bokeh !== undefined && root.Bokeh.Panel !== undefined) {\n",
       "    embed_document(root);\n",
       "  } else {\n",
       "    var attempts = 0;\n",
       "    var timer = setInterval(function(root) {\n",
       "      if (root.Bokeh !== undefined && root.Bokeh.Panel !== undefined) {\n",
       "        clearInterval(timer);\n",
       "        embed_document(root);\n",
       "      } else if (document.readyState == \"complete\") {\n",
       "        attempts++;\n",
       "        if (attempts > 200) {\n",
       "          clearInterval(timer);\n",
       "          console.log(\"Bokeh: ERROR: Unable to run BokehJS code because BokehJS library is missing\");\n",
       "        }\n",
       "      }\n",
       "    }, 25, root)\n",
       "  }\n",
       "})(window);</script>"
      ],
      "text/plain": [
       "Select(name='Variable', options=['date_week', ...], sizing_mode='stretch_width', value='medium')"
      ]
     },
     "execution_count": 8,
     "metadata": {
      "application/vnd.holoviews_exec.v0+json": {
       "id": "1012"
      }
     },
     "output_type": "execute_result"
    }
   ],
   "source": [
    "variable = pn.widgets.Select(\n",
    "    name=\"Variable\", value=\"medium\", options=list(mc.columns)\n",
    ")\n",
    "variable.servable(area=\"sidebar\")"
   ]
  },
  {
   "cell_type": "code",
   "execution_count": 9,
   "id": "caa49b5a",
   "metadata": {},
   "outputs": [
    {
     "data": {},
     "metadata": {},
     "output_type": "display_data"
    },
    {
     "data": {
      "application/vnd.holoviews_exec.v0+json": "",
      "text/html": [
       "<div id='1014'>\n",
       "  <div class=\"bk-root\" id=\"f938b97c-61cc-4dda-958c-58a82f8d448c\" data-root-id=\"1014\"></div>\n",
       "</div>\n",
       "<script type=\"application/javascript\">(function(root) {\n",
       "  function embed_document(root) {\n",
       "    var docs_json = {\"6a649305-60f2-4809-a985-c79454b1d9f3\":{\"defs\":[{\"extends\":null,\"module\":null,\"name\":\"ReactiveHTML1\",\"overrides\":[],\"properties\":[]},{\"extends\":null,\"module\":null,\"name\":\"FlexBox1\",\"overrides\":[],\"properties\":[{\"default\":\"flex-start\",\"kind\":null,\"name\":\"align_content\"},{\"default\":\"flex-start\",\"kind\":null,\"name\":\"align_items\"},{\"default\":\"row\",\"kind\":null,\"name\":\"flex_direction\"},{\"default\":\"wrap\",\"kind\":null,\"name\":\"flex_wrap\"},{\"default\":\"flex-start\",\"kind\":null,\"name\":\"justify_content\"}]},{\"extends\":null,\"module\":null,\"name\":\"GridStack1\",\"overrides\":[],\"properties\":[{\"default\":\"warn\",\"kind\":null,\"name\":\"mode\"},{\"default\":null,\"kind\":null,\"name\":\"ncols\"},{\"default\":null,\"kind\":null,\"name\":\"nrows\"},{\"default\":true,\"kind\":null,\"name\":\"allow_resize\"},{\"default\":true,\"kind\":null,\"name\":\"allow_drag\"},{\"default\":[],\"kind\":null,\"name\":\"state\"}]},{\"extends\":null,\"module\":null,\"name\":\"click1\",\"overrides\":[],\"properties\":[{\"default\":\"\",\"kind\":null,\"name\":\"terminal_output\"},{\"default\":\"\",\"kind\":null,\"name\":\"debug_name\"},{\"default\":0,\"kind\":null,\"name\":\"clears\"}]},{\"extends\":null,\"module\":null,\"name\":\"NotificationAreaBase1\",\"overrides\":[],\"properties\":[{\"default\":\"bottom-right\",\"kind\":null,\"name\":\"position\"},{\"default\":0,\"kind\":null,\"name\":\"_clear\"}]},{\"extends\":null,\"module\":null,\"name\":\"NotificationArea1\",\"overrides\":[],\"properties\":[{\"default\":[],\"kind\":null,\"name\":\"notifications\"},{\"default\":\"bottom-right\",\"kind\":null,\"name\":\"position\"},{\"default\":0,\"kind\":null,\"name\":\"_clear\"},{\"default\":[{\"background\":\"#ffc107\",\"icon\":{\"className\":\"fas fa-exclamation-triangle\",\"color\":\"white\",\"tagName\":\"i\"},\"type\":\"warning\"},{\"background\":\"#007bff\",\"icon\":{\"className\":\"fas fa-info-circle\",\"color\":\"white\",\"tagName\":\"i\"},\"type\":\"info\"}],\"kind\":null,\"name\":\"types\"}]},{\"extends\":null,\"module\":null,\"name\":\"Notification\",\"overrides\":[],\"properties\":[{\"default\":null,\"kind\":null,\"name\":\"background\"},{\"default\":3000,\"kind\":null,\"name\":\"duration\"},{\"default\":null,\"kind\":null,\"name\":\"icon\"},{\"default\":\"\",\"kind\":null,\"name\":\"message\"},{\"default\":null,\"kind\":null,\"name\":\"notification_type\"},{\"default\":false,\"kind\":null,\"name\":\"_destroyed\"}]},{\"extends\":null,\"module\":null,\"name\":\"TemplateActions1\",\"overrides\":[],\"properties\":[{\"default\":0,\"kind\":null,\"name\":\"open_modal\"},{\"default\":0,\"kind\":null,\"name\":\"close_modal\"}]},{\"extends\":null,\"module\":null,\"name\":\"MaterialTemplateActions1\",\"overrides\":[],\"properties\":[{\"default\":0,\"kind\":null,\"name\":\"open_modal\"},{\"default\":0,\"kind\":null,\"name\":\"close_modal\"}]}],\"roots\":{\"references\":[{\"attributes\":{\"client_comm_id\":\"4c6373960e5b46b7811901e05b065043\",\"comm_id\":\"e6f69ca5506d4378a9afbfabb0fe1062\",\"plot_id\":\"1014\"},\"id\":\"1015\",\"type\":\"panel.models.comm_manager.CommManager\"},{\"attributes\":{\"margin\":[5,10,5,10],\"options\":[\"visits\",\"transactions\",\"totalTransactionRevenue\"],\"sizing_mode\":\"stretch_width\",\"title\":\"Output\",\"value\":\"transactions\"},\"id\":\"1014\",\"type\":\"panel.models.widgets.CustomSelect\"}],\"root_ids\":[\"1014\",\"1015\"]},\"title\":\"Bokeh Application\",\"version\":\"2.4.3\"}};\n",
       "    var render_items = [{\"docid\":\"6a649305-60f2-4809-a985-c79454b1d9f3\",\"root_ids\":[\"1014\"],\"roots\":{\"1014\":\"f938b97c-61cc-4dda-958c-58a82f8d448c\"}}];\n",
       "    root.Bokeh.embed.embed_items_notebook(docs_json, render_items);\n",
       "  }\n",
       "  if (root.Bokeh !== undefined && root.Bokeh.Panel !== undefined) {\n",
       "    embed_document(root);\n",
       "  } else {\n",
       "    var attempts = 0;\n",
       "    var timer = setInterval(function(root) {\n",
       "      if (root.Bokeh !== undefined && root.Bokeh.Panel !== undefined) {\n",
       "        clearInterval(timer);\n",
       "        embed_document(root);\n",
       "      } else if (document.readyState == \"complete\") {\n",
       "        attempts++;\n",
       "        if (attempts > 200) {\n",
       "          clearInterval(timer);\n",
       "          console.log(\"Bokeh: ERROR: Unable to run BokehJS code because BokehJS library is missing\");\n",
       "        }\n",
       "      }\n",
       "    }, 25, root)\n",
       "  }\n",
       "})(window);</script>"
      ],
      "text/plain": [
       "Select(name='Output', options=['visits', 'transactions',...], sizing_mode='stretch_width', value='transactions')"
      ]
     },
     "execution_count": 9,
     "metadata": {
      "application/vnd.holoviews_exec.v0+json": {
       "id": "1014"
      }
     },
     "output_type": "execute_result"
    }
   ],
   "source": [
    "independent = pn.widgets.Select(\n",
    "    name=\"Output\", value=\"transactions\", options=['visits', 'transactions', 'totalTransactionRevenue']\n",
    ")\n",
    "independent.servable(area=\"sidebar\")"
   ]
  },
  {
   "cell_type": "code",
   "execution_count": 10,
   "id": "d6319118",
   "metadata": {},
   "outputs": [
    {
     "data": {},
     "metadata": {},
     "output_type": "display_data"
    },
    {
     "data": {
      "application/vnd.holoviews_exec.v0+json": "",
      "text/html": [
       "<div id='1016'>\n",
       "  <div class=\"bk-root\" id=\"3ab6c97f-99a6-4740-9757-da5408239be0\" data-root-id=\"1016\"></div>\n",
       "</div>\n",
       "<script type=\"application/javascript\">(function(root) {\n",
       "  function embed_document(root) {\n",
       "    var docs_json = {\"f98f0faa-6e55-4810-bef7-bd675f7fffcf\":{\"defs\":[{\"extends\":null,\"module\":null,\"name\":\"ReactiveHTML1\",\"overrides\":[],\"properties\":[]},{\"extends\":null,\"module\":null,\"name\":\"FlexBox1\",\"overrides\":[],\"properties\":[{\"default\":\"flex-start\",\"kind\":null,\"name\":\"align_content\"},{\"default\":\"flex-start\",\"kind\":null,\"name\":\"align_items\"},{\"default\":\"row\",\"kind\":null,\"name\":\"flex_direction\"},{\"default\":\"wrap\",\"kind\":null,\"name\":\"flex_wrap\"},{\"default\":\"flex-start\",\"kind\":null,\"name\":\"justify_content\"}]},{\"extends\":null,\"module\":null,\"name\":\"GridStack1\",\"overrides\":[],\"properties\":[{\"default\":\"warn\",\"kind\":null,\"name\":\"mode\"},{\"default\":null,\"kind\":null,\"name\":\"ncols\"},{\"default\":null,\"kind\":null,\"name\":\"nrows\"},{\"default\":true,\"kind\":null,\"name\":\"allow_resize\"},{\"default\":true,\"kind\":null,\"name\":\"allow_drag\"},{\"default\":[],\"kind\":null,\"name\":\"state\"}]},{\"extends\":null,\"module\":null,\"name\":\"click1\",\"overrides\":[],\"properties\":[{\"default\":\"\",\"kind\":null,\"name\":\"terminal_output\"},{\"default\":\"\",\"kind\":null,\"name\":\"debug_name\"},{\"default\":0,\"kind\":null,\"name\":\"clears\"}]},{\"extends\":null,\"module\":null,\"name\":\"NotificationAreaBase1\",\"overrides\":[],\"properties\":[{\"default\":\"bottom-right\",\"kind\":null,\"name\":\"position\"},{\"default\":0,\"kind\":null,\"name\":\"_clear\"}]},{\"extends\":null,\"module\":null,\"name\":\"NotificationArea1\",\"overrides\":[],\"properties\":[{\"default\":[],\"kind\":null,\"name\":\"notifications\"},{\"default\":\"bottom-right\",\"kind\":null,\"name\":\"position\"},{\"default\":0,\"kind\":null,\"name\":\"_clear\"},{\"default\":[{\"background\":\"#ffc107\",\"icon\":{\"className\":\"fas fa-exclamation-triangle\",\"color\":\"white\",\"tagName\":\"i\"},\"type\":\"warning\"},{\"background\":\"#007bff\",\"icon\":{\"className\":\"fas fa-info-circle\",\"color\":\"white\",\"tagName\":\"i\"},\"type\":\"info\"}],\"kind\":null,\"name\":\"types\"}]},{\"extends\":null,\"module\":null,\"name\":\"Notification\",\"overrides\":[],\"properties\":[{\"default\":null,\"kind\":null,\"name\":\"background\"},{\"default\":3000,\"kind\":null,\"name\":\"duration\"},{\"default\":null,\"kind\":null,\"name\":\"icon\"},{\"default\":\"\",\"kind\":null,\"name\":\"message\"},{\"default\":null,\"kind\":null,\"name\":\"notification_type\"},{\"default\":false,\"kind\":null,\"name\":\"_destroyed\"}]},{\"extends\":null,\"module\":null,\"name\":\"TemplateActions1\",\"overrides\":[],\"properties\":[{\"default\":0,\"kind\":null,\"name\":\"open_modal\"},{\"default\":0,\"kind\":null,\"name\":\"close_modal\"}]},{\"extends\":null,\"module\":null,\"name\":\"MaterialTemplateActions1\",\"overrides\":[],\"properties\":[{\"default\":0,\"kind\":null,\"name\":\"open_modal\"},{\"default\":0,\"kind\":null,\"name\":\"close_modal\"}]}],\"roots\":{\"references\":[{\"attributes\":{\"client_comm_id\":\"8882a578d294477e905f279140ed289a\",\"comm_id\":\"122aa97bde364e9ca5bcec9bb2926060\",\"plot_id\":\"1016\"},\"id\":\"1018\",\"type\":\"panel.models.comm_manager.CommManager\"},{\"attributes\":{\"children\":[{\"id\":\"1017\"}],\"margin\":[0,0,0,0],\"name\":\"Row00131\",\"sizing_mode\":\"scale_both\"},\"id\":\"1016\",\"type\":\"Row\"},{\"attributes\":{\"height\":720,\"margin\":[5,5,5,5],\"name\":\"ParamFunction00127\",\"sizing_mode\":\"scale_both\",\"text\":\"&lt;img src=&quot;data:image/png;base64,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&quot; width=&quot;100%&quot; height=&quot;auto&quot; alt=&quot;&quot;&gt;&lt;/img&gt;\",\"width\":1440},\"id\":\"1017\",\"type\":\"panel.models.markup.HTML\"}],\"root_ids\":[\"1016\",\"1018\"]},\"title\":\"Bokeh Application\",\"version\":\"2.4.3\"}};\n",
       "    var render_items = [{\"docid\":\"f98f0faa-6e55-4810-bef7-bd675f7fffcf\",\"root_ids\":[\"1016\"],\"roots\":{\"1016\":\"3ab6c97f-99a6-4740-9757-da5408239be0\"}}];\n",
       "    root.Bokeh.embed.embed_items_notebook(docs_json, render_items);\n",
       "  }\n",
       "  if (root.Bokeh !== undefined && root.Bokeh.Panel !== undefined) {\n",
       "    embed_document(root);\n",
       "  } else {\n",
       "    var attempts = 0;\n",
       "    var timer = setInterval(function(root) {\n",
       "      if (root.Bokeh !== undefined && root.Bokeh.Panel !== undefined) {\n",
       "        clearInterval(timer);\n",
       "        embed_document(root);\n",
       "      } else if (document.readyState == \"complete\") {\n",
       "        attempts++;\n",
       "        if (attempts > 200) {\n",
       "          clearInterval(timer);\n",
       "          console.log(\"Bokeh: ERROR: Unable to run BokehJS code because BokehJS library is missing\");\n",
       "        }\n",
       "      }\n",
       "    }, 25, root)\n",
       "  }\n",
       "})(window);</script>"
      ],
      "text/plain": [
       "ParamFunction(function, sizing_mode='scale_both')"
      ]
     },
     "execution_count": 10,
     "metadata": {
      "application/vnd.holoviews_exec.v0+json": {
       "id": "1016"
      }
     },
     "output_type": "execute_result"
    }
   ],
   "source": [
    "# Reactive Functions\n",
    "reactive = pn.bind(get_plot, mc, variable, independent)\n",
    "pn.panel(reactive, sizing_mode=\"scale_both\").servable()"
   ]
  },
  {
   "cell_type": "markdown",
   "id": "eef4bd71",
   "metadata": {},
   "source": [
    "### Explaination:"
   ]
  },
  {
   "cell_type": "markdown",
   "id": "4703dbd3",
   "metadata": {},
   "source": [
    "From the Correlation-coefficients from 'mc_profile' profiling, we observe that the source-bounces Phik coefficient (φk) is around 0.0 and that of medium-bounce is 0.2. The difference is not significant. It can also be observed from the chart, transactions(successful bookings) has similar bar-plot structure."
   ]
  },
  {
   "cell_type": "markdown",
   "id": "19d28f3c",
   "metadata": {},
   "source": [
    "## Which factors most strongly influence conversion rate (transactions / visit) ?"
   ]
  },
  {
   "cell_type": "markdown",
   "id": "77b88d20",
   "metadata": {},
   "source": [
    "In the initial exploration of data analysis, we noted that `transactions` has a wide range and highly skewed. In order to find the factors that most strongly influence conversion rate (transactions), the data is discretised into 4 bins and a new column `tier` is added as below:\n",
    "\n",
    "* Transaction=0 :: tier=0\n",
    "* Transaction=1 :: tier=1\n",
    "* Transaction>1 and Transaction<5 :: tier=2\n",
    "* Transaction=>5 and Transaction<10 :: tier=3\n",
    "* Transaction=>10 :: tier=4"
   ]
  },
  {
   "cell_type": "code",
   "execution_count": 15,
   "id": "88d224b5",
   "metadata": {
    "scrolled": true
   },
   "outputs": [],
   "source": [
    "# Python code for discretization\n",
    "import numpy as np\n",
    "conditions = [\n",
    "    (mc['transactions'] == 0),\n",
    "    (mc['transactions'] == 1),\n",
    "    ((mc['transactions'] > 1) & (mc['transactions'] < 5)),\n",
    "    ((mc['transactions'] > 5) & (mc['transactions'] < 10)),\n",
    "    (mc['transactions'] >= 10)\n",
    "    ]\n",
    "\n",
    "# create a list of the values we want to assign for each condition\n",
    "values = ['0', '1', '2', '3', '4']\n",
    "\n",
    "# create a new column and use np.select to assign values to it using our lists as arguments\n",
    "mc['tier'] = np.select(conditions, values)\n",
    "mc[mc.select_dtypes(['object']).columns] = mc.select_dtypes(['object']).apply(lambda x: x.astype('category'))"
   ]
  },
  {
   "cell_type": "code",
   "execution_count": 16,
   "id": "b1a2ce76",
   "metadata": {},
   "outputs": [],
   "source": [
    "from IPython.display import Image"
   ]
  },
  {
   "cell_type": "code",
   "execution_count": 17,
   "id": "d8bdd4c8",
   "metadata": {
    "scrolled": false
   },
   "outputs": [
    {
     "data": {
      "text/html": [
       "<img src=\"Factors influencing conversion rate - pipeline.png\" width=\"1600\" height=\"800\"/>"
      ],
      "text/plain": [
       "<IPython.core.display.Image object>"
      ]
     },
     "execution_count": 17,
     "metadata": {},
     "output_type": "execute_result"
    }
   ],
   "source": [
    "Image(url= \"Factors influencing conversion rate - pipeline.png\", width=1600, height=800)"
   ]
  },
  {
   "cell_type": "code",
   "execution_count": 18,
   "id": "33d67a4b",
   "metadata": {
    "scrolled": false
   },
   "outputs": [
    {
     "data": {
      "text/html": [
       "<img src=\"Factors influencing conversion rate.png\" width=\"1600\" height=\"800\"/>"
      ],
      "text/plain": [
       "<IPython.core.display.Image object>"
      ]
     },
     "execution_count": 18,
     "metadata": {},
     "output_type": "execute_result"
    }
   ],
   "source": [
    "Image(url= \"Factors influencing conversion rate.png\", width=1600, height=800)"
   ]
  },
  {
   "cell_type": "markdown",
   "id": "89c111fe",
   "metadata": {},
   "source": [
    "### Explaination:"
   ]
  },
  {
   "cell_type": "markdown",
   "id": "f5fc5898",
   "metadata": {},
   "source": [
    "The first image above shows the pipeline created in 'RapidMiner' software. After the data is retrieved, the `transactions` column is set as labels and descretized according to above conditions. Finally, weights are fetched by information gain value. The higher the value, more important is the feature variable for target. From the plot, it is clear that `totalTransactionRevenue` contributes maximum to the groups. The `referralPath`, `visits` and `source` supports almost equally to the newly created classes."
   ]
  },
  {
   "cell_type": "markdown",
   "id": "8384c588",
   "metadata": {},
   "source": [
    "## What appears to be the biggest opportunity to drive incremental bookings?"
   ]
  },
  {
   "cell_type": "markdown",
   "id": "cf8b3d02",
   "metadata": {},
   "source": [
    "In order to increase revenue, it is important to find out which factors likely to contribute for subsequent bookings (transactions). For this we created three classes (range) and factors that maximises each class is identified. The ranges are created by discretizing according to the condition given below:\n",
    "\n",
    "* range:: transaction=1 \n",
    "* range2:: transaction=2-5\n",
    "* range3: transaction=6-Infinity\n",
    "\n",
    "\n",
    "The following pipeline is created: \n",
    "\n",
    "Filter only successful transactions > Simulate on different algorithms to maximize the `range3` > Identify important features. \n",
    "\n",
    "The outcome of each algorithm is shown below. "
   ]
  },
  {
   "cell_type": "markdown",
   "id": "0eb8515c",
   "metadata": {},
   "source": [
    "### [1] Gradient Booster "
   ]
  },
  {
   "cell_type": "code",
   "execution_count": 19,
   "id": "a6212842",
   "metadata": {},
   "outputs": [
    {
     "data": {
      "text/html": [
       "<img src=\"transaction prediction models - Gradient Booster.jpg\" width=\"1600\" height=\"800\"/>"
      ],
      "text/plain": [
       "<IPython.core.display.Image object>"
      ]
     },
     "execution_count": 19,
     "metadata": {},
     "output_type": "execute_result"
    }
   ],
   "source": [
    "Image(url= \"transaction prediction models - Gradient Booster.jpg\", width=1600, height=800)"
   ]
  },
  {
   "cell_type": "code",
   "execution_count": 20,
   "id": "cc1244d3",
   "metadata": {},
   "outputs": [
    {
     "data": {
      "text/html": [
       "<img src=\"transaction prediction models - Gradient Booster (features).jpg\" width=\"1600\" height=\"800\"/>"
      ],
      "text/plain": [
       "<IPython.core.display.Image object>"
      ]
     },
     "execution_count": 20,
     "metadata": {},
     "output_type": "execute_result"
    }
   ],
   "source": [
    "Image(url= \"transaction prediction models - Gradient Booster (features).jpg\", width=1600, height=800)"
   ]
  },
  {
   "cell_type": "markdown",
   "id": "73416d96",
   "metadata": {},
   "source": [
    "### [2] Logistic Regression"
   ]
  },
  {
   "cell_type": "code",
   "execution_count": 21,
   "id": "787e0813",
   "metadata": {},
   "outputs": [
    {
     "data": {
      "text/html": [
       "<img src=\"transaction prediction models - Logistic regression.jpg\" width=\"1600\" height=\"800\"/>"
      ],
      "text/plain": [
       "<IPython.core.display.Image object>"
      ]
     },
     "execution_count": 21,
     "metadata": {},
     "output_type": "execute_result"
    }
   ],
   "source": [
    "Image(url= \"transaction prediction models - Logistic regression.jpg\", width=1600, height=800)"
   ]
  },
  {
   "cell_type": "code",
   "execution_count": 22,
   "id": "f9d8c6df",
   "metadata": {},
   "outputs": [
    {
     "data": {
      "text/html": [
       "<img src=\"transaction prediction models - Logistic regression (features).jpg\" width=\"1600\" height=\"800\"/>"
      ],
      "text/plain": [
       "<IPython.core.display.Image object>"
      ]
     },
     "execution_count": 22,
     "metadata": {},
     "output_type": "execute_result"
    }
   ],
   "source": [
    "Image(url= \"transaction prediction models - Logistic regression (features).jpg\", width=1600, height=800)"
   ]
  },
  {
   "cell_type": "markdown",
   "id": "d47febbc",
   "metadata": {},
   "source": [
    "### [3] Random Forest"
   ]
  },
  {
   "cell_type": "code",
   "execution_count": 23,
   "id": "8e16501b",
   "metadata": {},
   "outputs": [
    {
     "data": {
      "text/html": [
       "<img src=\"transaction prediction models - Random Forest.jpg\" width=\"1600\" height=\"800\"/>"
      ],
      "text/plain": [
       "<IPython.core.display.Image object>"
      ]
     },
     "execution_count": 23,
     "metadata": {},
     "output_type": "execute_result"
    }
   ],
   "source": [
    "Image(url= \"transaction prediction models - Random Forest.jpg\", width=1600, height=800)"
   ]
  },
  {
   "cell_type": "code",
   "execution_count": 24,
   "id": "ad2edc10",
   "metadata": {},
   "outputs": [
    {
     "data": {
      "text/html": [
       "<img src=\"transaction prediction models - Random Forest (features).jpg\" width=\"1600\" height=\"800\"/>"
      ],
      "text/plain": [
       "<IPython.core.display.Image object>"
      ]
     },
     "execution_count": 24,
     "metadata": {},
     "output_type": "execute_result"
    }
   ],
   "source": [
    "Image(url= \"transaction prediction models - Random Forest (features).jpg\", width=1600, height=800)"
   ]
  },
  {
   "cell_type": "markdown",
   "id": "c4f3e791",
   "metadata": {},
   "source": [
    "The overall weights by correlations amongst all the tiers are also obtained. The extracted feature along with its weight is shown below."
   ]
  },
  {
   "cell_type": "code",
   "execution_count": 25,
   "id": "92575391",
   "metadata": {},
   "outputs": [
    {
     "data": {
      "text/html": [
       "<img src=\"Weights by Correlations.jpg\" width=\"1600\" height=\"800\"/>"
      ],
      "text/plain": [
       "<IPython.core.display.Image object>"
      ]
     },
     "execution_count": 25,
     "metadata": {},
     "output_type": "execute_result"
    }
   ],
   "source": [
    "Image(url= \"Weights by Correlations.jpg\", width=1600, height=800)"
   ]
  },
  {
   "cell_type": "markdown",
   "id": "c9ecf87b",
   "metadata": {},
   "source": [
    "# Conclusion"
   ]
  },
  {
   "cell_type": "markdown",
   "id": "d111fc18",
   "metadata": {},
   "source": [
    "In the case study, the goal was to analyse the customer booking's data. After the taget label i.e transactions, it was observed that company has missed out large number of successful transactions. It was observed 'direct' and 'google' are the major sources from which company was able to convert large number transactions. Although `medium` and `source` has similar motif towards conversion rate, it is to be noted that medium has many unknown (none) values. `referralPath` has 40% of missing values hence no firm conclusion can be drawn. Therefore, data collection process need to be upgraded for better analysis. The large number of successful transaction was found to be positively associated with `region`. Hence, it is advisable to spend more on region specific advertisments to increase conversion rate. Since the conversion rate (visits/transactions) is directly related to revenue, focusing on the identified features will help improve the revenue of the company. However, it should be noted that this is not exhaustive analysis."
   ]
  }
 ],
 "metadata": {
  "kernelspec": {
   "display_name": "UniversityOfLeeds3.8",
   "language": "python",
   "name": "universityofleeds3.8"
  },
  "language_info": {
   "codemirror_mode": {
    "name": "ipython",
    "version": 3
   },
   "file_extension": ".py",
   "mimetype": "text/x-python",
   "name": "python",
   "nbconvert_exporter": "python",
   "pygments_lexer": "ipython3",
   "version": "3.8.10"
  }
 },
 "nbformat": 4,
 "nbformat_minor": 5
}
